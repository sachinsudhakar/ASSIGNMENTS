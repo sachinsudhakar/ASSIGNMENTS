{
 "cells": [
  {
   "cell_type": "markdown",
   "id": "210b26ab",
   "metadata": {},
   "source": [
    "# 1. What is a lambda function in Python, and how does it differ from a regular function?\n",
    "\n",
    "ans:-\n",
    "\n",
    "1.Lambda functions are small, anonymous functions defined with the lambda keyword.\n",
    "\n",
    "2.They can take any number of arguments but can only have one expression.\n",
    "\n",
    "3.The expression is evaluated and returned when the function is called.\n",
    "\n",
    "4.Lambda functions do not require a return statement, the expression is implicitly returned.\n",
    "\n",
    "5.They can be used wherever function objects are required, like inside functions like map(), filter(), and reduce().\n",
    "\n",
    "6.You can't include statements like loops, if, or else in lambda functions; only expressions are allowed.\n",
    "\n",
    "7.Lambda functions are useful for small tasks that are not reused throughout your code.\n",
    "\n",
    "8.They can be assigned to variables and used like regular functions.\n",
    "\n",
    "9.These functions do not have parenthesis like the def defined functions but instead, take parameters after the lambda keyword as shown above.\n",
    "\n",
    "10.There is no return keyword defined explicitly because the lambda function does return an object by default."
   ]
  },
  {
   "cell_type": "markdown",
   "id": "41251da4",
   "metadata": {},
   "source": [
    "# 2. Can a lambda function in Python have multiple arguments? If yes, how can you define and use them?\n",
    "\n",
    "ans:-\n",
    "\n",
    "yes, A lambda function can take any number of arguments, but can only have one expression."
   ]
  },
  {
   "cell_type": "code",
   "execution_count": 1,
   "id": "57a365d6",
   "metadata": {},
   "outputs": [
    {
     "name": "stdout",
     "output_type": "stream",
     "text": [
      "enter the number1: 20\n",
      "enter the  number2: 5\n",
      "25\n"
     ]
    }
   ],
   "source": [
    "add= lambda x,y:x+y\n",
    "n1=int(input(\"enter the number1: \"))\n",
    "n2=int(input(\"enter the  number2: \"))\n",
    "print(add(n1,n2))"
   ]
  },
  {
   "cell_type": "markdown",
   "id": "ecbbe8ce",
   "metadata": {},
   "source": [
    "# 3. How are lambda functions typically used in Python? Provide an example use case.\n",
    "\n",
    "ans:-"
   ]
  },
  {
   "cell_type": "code",
   "execution_count": 2,
   "id": "b34f2216",
   "metadata": {},
   "outputs": [
    {
     "name": "stdout",
     "output_type": "stream",
     "text": [
      "odd\n"
     ]
    }
   ],
   "source": [
    "# we are try to print number iseven or odd\n",
    "even_or_odd= lambda x:'even' if x%2==0 else 'odd'\n",
    "print(even_or_odd(23))"
   ]
  },
  {
   "cell_type": "markdown",
   "id": "a76c99d5",
   "metadata": {},
   "source": [
    "# 4. What are the advantages and limitations of lambda functions compared to regular functions in Python?\n",
    "\n",
    "ans:-\n",
    "\n",
    "# advantages:\n",
    "\n",
    "1.Single line operation(excution time is less), simple calculation.\n",
    "2.When the perticular operation is not for many numner of times.\n",
    "3.It will be used in once \n",
    "\n",
    "# limitation:\n",
    "\n",
    "1.It is not suitable for complex task\n",
    "2.Not reader friendly sometime we cant able to understand what it is doing "
   ]
  },
  {
   "cell_type": "markdown",
   "id": "59add624",
   "metadata": {},
   "source": [
    "# 5. Are lambda functions in Python able to access variables defined outside of their own scope? Explain with an example.\n",
    "\n",
    "ans:-\n",
    "\n",
    "Yes, lambda functions in Python can access variables defined outside of their own scope. This is because lambda functions have access to the variables in the enclosing scope, just like regular functions defined with the def keyword. This behavior is known as \"lexical scoping\" or \"closure.\"\n",
    "\n",
    "Here's an example to demonstrate this:"
   ]
  },
  {
   "cell_type": "code",
   "execution_count": 3,
   "id": "f90cd08c",
   "metadata": {},
   "outputs": [
    {
     "name": "stdout",
     "output_type": "stream",
     "text": [
      "35\n"
     ]
    }
   ],
   "source": [
    "def outer_function(x):\n",
    "    y = 10\n",
    "\n",
    "    # Define a lambda function that uses variables from the outer scope\n",
    "    lambda_func = lambda z: x + y + z\n",
    "\n",
    "    # Call the lambda function\n",
    "    result = lambda_func(5)\n",
    "    return result\n",
    "\n",
    "# Call the outer function\n",
    "output = outer_function(20)\n",
    "print(output)  # Output: 35"
   ]
  },
  {
   "cell_type": "markdown",
   "id": "795be06c",
   "metadata": {},
   "source": [
    "In the example above, the outer_function defines two variables: x and y. Inside the outer_function, a lambda function named lambda_func is defined. This lambda function takes an argument z and uses the variables x and y from the outer scope. When lambda_func is called with the argument 5, it returns the sum of x, y, and z.\n",
    "\n",
    "When we call outer_function(20), the lambda function is executed, and it correctly accesses and uses the values of x and y defined in the outer scope. The result is 35, which is the sum of 20, 10, and 5.\n",
    "\n",
    "So, lambda functions can access variables from the enclosing scope, allowing for more flexible and concise code when working with functions that require access to external values."
   ]
  },
  {
   "cell_type": "markdown",
   "id": "b5be9524",
   "metadata": {},
   "source": [
    "# 6. Write a lambda function to calculate the square of a given number.\n",
    "\n",
    "ans:-"
   ]
  },
  {
   "cell_type": "code",
   "execution_count": 4,
   "id": "3ec5bc20",
   "metadata": {},
   "outputs": [
    {
     "name": "stdout",
     "output_type": "stream",
     "text": [
      "8\n"
     ]
    }
   ],
   "source": [
    "sq=lambda x:x*2 \n",
    "print(sq(4))"
   ]
  },
  {
   "cell_type": "markdown",
   "id": "55e78189",
   "metadata": {},
   "source": [
    "# 7. Create a lambda function to find the maximum value in a list of integers.\n",
    "\n",
    "ans:-"
   ]
  },
  {
   "cell_type": "code",
   "execution_count": 5,
   "id": "ae2a0551",
   "metadata": {},
   "outputs": [
    {
     "name": "stdout",
     "output_type": "stream",
     "text": [
      "23\n"
     ]
    }
   ],
   "source": [
    "max=lambda x,y: x if x>y else y\n",
    "print(max(23,4))"
   ]
  },
  {
   "cell_type": "markdown",
   "id": "79349f67",
   "metadata": {},
   "source": [
    "# 8. Implement a lambda function to filter out all the even numbers from a list of integers.\n",
    "\n",
    "ans:-"
   ]
  },
  {
   "cell_type": "code",
   "execution_count": 6,
   "id": "5a555ab4",
   "metadata": {},
   "outputs": [
    {
     "name": "stdout",
     "output_type": "stream",
     "text": [
      "[2, 4, 6]\n"
     ]
    }
   ],
   "source": [
    "x=[1,2,3,4,5,6]\n",
    "even=filter(lambda x : x%2==0,x)\n",
    "print(list(even))"
   ]
  },
  {
   "cell_type": "markdown",
   "id": "49fe4fa2",
   "metadata": {},
   "source": [
    "# 9. Write a lambda function to sort a list of strings in ascending order based on the length of each string.\n",
    "\n",
    "ans:-"
   ]
  },
  {
   "cell_type": "code",
   "execution_count": 7,
   "id": "bb45a89e",
   "metadata": {},
   "outputs": [
    {
     "name": "stdout",
     "output_type": "stream",
     "text": [
      "['apple', 'mango', 'cherry', 'orange']\n"
     ]
    }
   ],
   "source": [
    "my_list=['apple','mango','cherry','orange']\n",
    "sorted_list=sorted(my_list,key=lambda x:len(x))\n",
    "print(sorted_list)"
   ]
  },
  {
   "cell_type": "markdown",
   "id": "ff76f790",
   "metadata": {},
   "source": [
    "# 10. Create a lambda function that takes two lists as input and returns a new list containing the common elements between the two lists.\n",
    "\n",
    "ans:-"
   ]
  },
  {
   "cell_type": "code",
   "execution_count": 8,
   "id": "ccb1f4b1",
   "metadata": {},
   "outputs": [
    {
     "name": "stdout",
     "output_type": "stream",
     "text": [
      "[4, 5]\n"
     ]
    }
   ],
   "source": [
    "find_common_elements = lambda lst1, lst2: list(filter(lambda x: x in lst2, lst1))\n",
    "list1 = [1, 2, 3, 4, 5]\n",
    "list2 = [4, 5, 6, 7, 8]\n",
    "result = find_common_elements(list1, list2)\n",
    "print(result)"
   ]
  },
  {
   "cell_type": "markdown",
   "id": "cabd42f5",
   "metadata": {},
   "source": [
    "# 11. Write a recursive function to calculate the factorial of a given positive integer.\n",
    "\n",
    "ans:-"
   ]
  },
  {
   "cell_type": "code",
   "execution_count": 9,
   "id": "3672cceb",
   "metadata": {},
   "outputs": [
    {
     "name": "stdout",
     "output_type": "stream",
     "text": [
      "120\n",
      "6\n"
     ]
    }
   ],
   "source": [
    "def fact(n):\n",
    "    if n==1:\n",
    "        return n\n",
    "    else:\n",
    "        return n*fact(n-1)\n",
    "print(fact(5))   \n",
    "print(fact(3)) "
   ]
  },
  {
   "cell_type": "markdown",
   "id": "02cd0a4c",
   "metadata": {},
   "source": [
    "# 12. Implement a recursive function to compute the nth Fibonacci number.\n",
    "\n",
    "ans:-"
   ]
  },
  {
   "cell_type": "code",
   "execution_count": 10,
   "id": "d805b04e",
   "metadata": {},
   "outputs": [
    {
     "name": "stdout",
     "output_type": "stream",
     "text": [
      "55\n"
     ]
    }
   ],
   "source": [
    "def fibonacci(n):\n",
    "    if n <= 0:\n",
    "        return None\n",
    "    elif n == 1 or n == 2:\n",
    "        return 1\n",
    "    else:\n",
    "        return fibonacci(n - 1) + fibonacci(n - 2)\n",
    "result = fibonacci(10)\n",
    "print(result)"
   ]
  },
  {
   "cell_type": "markdown",
   "id": "75913d06",
   "metadata": {},
   "source": [
    "# 13. Create a recursive function to find the sum of all the elements in a given list.\n",
    "\n",
    "ans:-"
   ]
  },
  {
   "cell_type": "code",
   "execution_count": 11,
   "id": "004043bd",
   "metadata": {},
   "outputs": [
    {
     "name": "stdout",
     "output_type": "stream",
     "text": [
      "15\n"
     ]
    }
   ],
   "source": [
    "myList=[1,2,3,4,5] \n",
    "def sumOfList(myList, nSum):\n",
    "    if len(myList):\n",
    "        return sumOfList(myList[1:], nSum+myList[0])\n",
    "    else:\n",
    "        return nSum\n",
    "         \n",
    "print(sumOfList(myList, 0))"
   ]
  },
  {
   "cell_type": "markdown",
   "id": "ef097793",
   "metadata": {},
   "source": [
    "# 14. Write a recursive function to determine whether a given string is a palindrome.\n",
    "\n",
    "ans:-"
   ]
  },
  {
   "cell_type": "code",
   "execution_count": 12,
   "id": "355fdae6",
   "metadata": {},
   "outputs": [
    {
     "name": "stdout",
     "output_type": "stream",
     "text": [
      "enter string: radar\n",
      "this is the a palindrome\n"
     ]
    }
   ],
   "source": [
    "def palindrome(s):\n",
    "    if s==s[::-1]:\n",
    "        return \"this is the a palindrome\"\n",
    "    else:\n",
    "        return \"this is not a palindrome\"\n",
    "    \n",
    "string=input(\"enter string: \")\n",
    "print(palindrome(string))"
   ]
  },
  {
   "cell_type": "code",
   "execution_count": 13,
   "id": "28271b2d",
   "metadata": {},
   "outputs": [
    {
     "name": "stdout",
     "output_type": "stream",
     "text": [
      "Yes\n"
     ]
    }
   ],
   "source": [
    "def isPalindrome(str):\n",
    "  \n",
    "    # Run loop from 0 to len/2\n",
    "    for i in range(0, int(len(str)/2)):\n",
    "        if str[i] != str[len(str)-i-1]:\n",
    "            return False\n",
    "    return True\n",
    "  \n",
    "# main function\n",
    "s = \"malayalam\"\n",
    "ans = isPalindrome(s)\n",
    "  \n",
    "if (ans):\n",
    "    print(\"Yes\")\n",
    "else:\n",
    "    print(\"No\")"
   ]
  },
  {
   "cell_type": "markdown",
   "id": "5310a66d",
   "metadata": {},
   "source": [
    "# 15. Implement a recursive function to find the greatest common divisor (GCD) of two positive integers.\n",
    "\n",
    "ans:-"
   ]
  },
  {
   "cell_type": "code",
   "execution_count": 14,
   "id": "9596c2c2",
   "metadata": {},
   "outputs": [
    {
     "name": "stdout",
     "output_type": "stream",
     "text": [
      "12\n"
     ]
    }
   ],
   "source": [
    "def gcd_recursive(a, b):\n",
    "    if b == 0:\n",
    "        return a\n",
    "    else:\n",
    "        return gcd_recursive(b, a % b)\n",
    "result = gcd_recursive(36, 48)\n",
    "print(result) "
   ]
  },
  {
   "cell_type": "code",
   "execution_count": null,
   "id": "73dd6182",
   "metadata": {},
   "outputs": [],
   "source": []
  }
 ],
 "metadata": {
  "kernelspec": {
   "display_name": "Python 3 (ipykernel)",
   "language": "python",
   "name": "python3"
  },
  "language_info": {
   "codemirror_mode": {
    "name": "ipython",
    "version": 3
   },
   "file_extension": ".py",
   "mimetype": "text/x-python",
   "name": "python",
   "nbconvert_exporter": "python",
   "pygments_lexer": "ipython3",
   "version": "3.10.9"
  }
 },
 "nbformat": 4,
 "nbformat_minor": 5
}
