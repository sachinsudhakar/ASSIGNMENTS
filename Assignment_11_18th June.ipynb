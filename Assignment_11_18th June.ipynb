{
 "cells": [
  {
   "cell_type": "markdown",
   "id": "62fce2e5",
   "metadata": {},
   "source": [
    "# 1. What is the role of the 'else' block in a try-except statement? Provide an example scenario where it would be useful.\n",
    "\n",
    "ans:-\n",
    "\n",
    "Else: If there is no exception then this block will be executed"
   ]
  },
  {
   "cell_type": "code",
   "execution_count": 1,
   "id": "ed5d4c30",
   "metadata": {},
   "outputs": [
    {
     "name": "stdout",
     "output_type": "stream",
     "text": [
      "Yeah ! Your answer is : 1\n",
      "Sorry ! You are dividing by zero \n"
     ]
    }
   ],
   "source": [
    "def divide(x, y):\n",
    "    try:\n",
    "        # Floor Division : Gives only Fractional\n",
    "        # Part as Answer\n",
    "        result = x // y\n",
    "    except ZeroDivisionError:\n",
    "        print(\"Sorry ! You are dividing by zero \")\n",
    "    else:\n",
    "        print(\"Yeah ! Your answer is :\", result)\n",
    "   \n",
    "# Look at parameters and note the working of Program\n",
    "divide(3, 2)\n",
    "divide(3, 0)"
   ]
  },
  {
   "cell_type": "markdown",
   "id": "1ec4186b",
   "metadata": {},
   "source": [
    "# 2. Can a try-except block be nested inside another try-except block? Explain with an example.\n",
    "\n",
    "ans:-"
   ]
  },
  {
   "cell_type": "code",
   "execution_count": 2,
   "id": "9f878ae4",
   "metadata": {},
   "outputs": [
    {
     "name": "stdout",
     "output_type": "stream",
     "text": [
      "x\n"
     ]
    }
   ],
   "source": [
    "def a(z):\n",
    "    try:\n",
    "        100/z\n",
    "    except ZeroDivisionError:\n",
    "        try:\n",
    "            print('x')\n",
    "        finally:\n",
    "            return 42\n",
    "    finally:\n",
    "        return 1\n",
    "\n",
    "\n",
    "In [1]: a(0)"
   ]
  },
  {
   "cell_type": "markdown",
   "id": "a7ff7705",
   "metadata": {},
   "source": [
    "# 3. How can you create a custom exception class in Python? Provide an example that demonstrates its usage.\n",
    "\n",
    "ans:-"
   ]
  },
  {
   "cell_type": "code",
   "execution_count": 3,
   "id": "7393d995",
   "metadata": {},
   "outputs": [
    {
     "name": "stdout",
     "output_type": "stream",
     "text": [
      "Error: Division by zero is not allowed.\n"
     ]
    }
   ],
   "source": [
    "class CustomException(Exception):\n",
    "    def __init__(self, message):\n",
    "        self.message = message\n",
    "        super().__init__(self.message)\n",
    "\n",
    "# Example usage\n",
    "def divide(a, b):\n",
    "    if b == 0:\n",
    "        raise CustomException(\"Division by zero is not allowed.\")\n",
    "    return a / b\n",
    "\n",
    "# Handling the custom exception\n",
    "try:\n",
    "    result = divide(10, 0)\n",
    "    print(\"Result:\", result)\n",
    "except CustomException as e:\n",
    "    print(\"Error:\", e.message)"
   ]
  },
  {
   "cell_type": "markdown",
   "id": "cec3fc31",
   "metadata": {},
   "source": [
    "# 4. What are some common exceptions that are built-in to Python?\n",
    "\n",
    "ans:-\n",
    "\n",
    "ZeroDivisionError: Raised when the second argument of a division or modulo operation is zero.\n",
    "\n",
    "TypeError: Raised when an operation or function is applied to an object of inappropriate type.\n",
    "\n",
    "ValueError: Raised when a built-in operation or function receives an argument that has the right type but an inappropriate value.\n",
    "\n",
    "IndexError: Raised when a sequence subscript is out of range.\n",
    "\n",
    "KeyError: Raised when a dictionary key is not found.\n",
    "\n",
    "FileNotFoundError: Raised when a file or directory is requested but doesn’t exist.\n",
    "\n",
    "IOError: Raised when an I/O operation (such as a print statement, the built-in open() function or a method of a file object) fails for an I/O-related reason.\n",
    "\n",
    "ImportError: Raised when an import statement fails to find the module definition or when a from ... import fails to find a name that is to be imported.\n",
    "\n",
    "MemoryError: Raised when an operation runs out of memory.\n",
    "\n",
    "OverflowError: Raised when the result of an arithmetic operation is too large to be expressed by the normal number format.\n",
    "\n",
    "AttributeError: Raised when an attribute reference or assignment fails.\n",
    "\n",
    "SyntaxError: Raised when the parser encounters a syntax error.\n",
    "\n",
    "IndentationError: Raised when there is incorrect indentation.\n",
    "\n",
    "NameError: Raised when a local or global name is not found."
   ]
  },
  {
   "cell_type": "markdown",
   "id": "49efb693",
   "metadata": {},
   "source": [
    "# 5. What is logging in Python, and why is it important in software development?\n",
    "\n",
    "ans:-\n",
    "\n",
    "Logging in Python is a built-in module that provides a flexible and configurable way to record log messages during the execution of a program. It allows developers to track and record important information, warnings, errors, and debugging messages that occur during the program's execution.\n",
    "\n",
    "1) Debugging and Troubleshooting\n",
    "\n",
    "2) Monitoring and Auditing\n",
    "\n",
    "3) Error Analysis and Maintenance\n",
    "\n",
    "4) Documentation and Communication\n",
    "\n",
    "5) Flexibility and Configurability"
   ]
  },
  {
   "cell_type": "markdown",
   "id": "0da3c15c",
   "metadata": {},
   "source": [
    "# 6. Explain the purpose of log levels in Python logging and provide examples of when each log level would be appropriate.\n",
    "\n",
    "ans:-\n",
    "\n",
    "When you set a logging level in Python using the standard module, you're telling the library you want to handle all events from that level up. Setting the log level to INFO will include INFO, WARNING, ERROR, and CRITICAL messages."
   ]
  },
  {
   "cell_type": "code",
   "execution_count": 4,
   "id": "d5facf8a",
   "metadata": {},
   "outputs": [
    {
     "name": "stderr",
     "output_type": "stream",
     "text": [
      "DEBUG:root:This is a debug message\n",
      "INFO:root:This is an info message\n",
      "WARNING:root:This is a warning message\n",
      "ERROR:root:This is an error message\n",
      "CRITICAL:root:This is a critical message\n"
     ]
    }
   ],
   "source": [
    "# first import the logging library\n",
    "import logging\n",
    "\n",
    "\"\"\" In the code above, we first import the logging module, then we call the \n",
    "    basicConfig method to configure the logging. \n",
    "    \n",
    "    We set the level to DEBUG, which means that all logs of level \n",
    "    DEBUG and above will be tracked.\"\"\"\n",
    "\n",
    "logging.basicConfig(level=logging.DEBUG)\n",
    "\n",
    "# Logging Level: severity of the event being logged\n",
    "# Least severe to most severe\n",
    "logging.debug('This is a debug message')\n",
    "logging.info('This is an info message')\n",
    "logging.warning('This is a warning message')\n",
    "logging.error('This is an error message')\n",
    "logging.critical('This is a critical message')"
   ]
  },
  {
   "cell_type": "markdown",
   "id": "249b6faf",
   "metadata": {},
   "source": [
    "# 7. What are log formatters in Python logging, and how can you customise the log message format using formatters?\n",
    "\n",
    "ans:-\n",
    "\n",
    "The handlers use logging. Formatter objects to format a log record into a string-based log entry. Note: Formatters do not control the creation of log messages. A formatter works by combining the fields/data in a log record with the user-specified format string."
   ]
  },
  {
   "cell_type": "code",
   "execution_count": null,
   "id": "28d1530c",
   "metadata": {},
   "outputs": [],
   "source": [
    "## the dbr package provides and easy and secure way of connecting to databased from R\n",
    "## although if you want to minimize the dependencies, feel free to stick with DBI etc.\n",
    "library(dbr)\n",
    "## init a persistent connection to the database using a yaml config in the background thanks to dbr\n",
    "## NOTE that this is optional and a temporarily connection could be also used\n",
    "##      for higher reliability but lower throughput\n",
    "con <- db_connect('mydb')\n",
    "## define custom function writing the log message to a table\n",
    "log_appender(function(lines) {\n",
    "    db_append(\n",
    "        df = data.frame(timestamp = Sys.time(), message = lines),\n",
    "        table = 'logs', db = con)\n",
    "})"
   ]
  },
  {
   "cell_type": "markdown",
   "id": "00def69f",
   "metadata": {},
   "source": [
    "# 8. How can you set up logging to capture log messages from multiple modules or classes in a Python application?\n",
    "\n",
    "ans:-"
   ]
  },
  {
   "cell_type": "code",
   "execution_count": 1,
   "id": "f2abd8a4",
   "metadata": {},
   "outputs": [
    {
     "name": "stderr",
     "output_type": "stream",
     "text": [
      "DEBUG:root:Variables are 1 and 2\n"
     ]
    },
    {
     "data": {
      "text/plain": [
       "3"
      ]
     },
     "execution_count": 1,
     "metadata": {},
     "output_type": "execute_result"
    }
   ],
   "source": [
    "import logging\n",
    "\n",
    "logging.basicConfig(level=logging.DEBUG)\n",
    "\n",
    "def add(x, y):\n",
    "    logging.debug('Variables are %s and %s', x, y)\n",
    "    return x + y\n",
    "\n",
    "add(1, 2)"
   ]
  },
  {
   "cell_type": "markdown",
   "id": "2d7f708a",
   "metadata": {},
   "source": [
    "# 9. What is the difference between the logging and print statements in Python? When should you use logging over print statements in a real-world application?\n",
    "\n",
    "ans:-\n",
    "\n",
    "Logging in Python:- Record events and errors that occur during the execution of Python programs. Mainly used in the production environment\n",
    "\n",
    "Print in Python:-Displays the information to the console for the debugging purposes. Mainly for debugging."
   ]
  },
  {
   "cell_type": "markdown",
   "id": "286e68ac",
   "metadata": {},
   "source": [
    "# Write a Python program that logs a message to a file named \"app.log\" with the following requirements:\n",
    "# ● The log message should be \"Hello, World!\"\n",
    "# ● The log level should be set to \"INFO.\"\n",
    "# ● The log file should append new log entries without overwriting previous ones.\n",
    "\n",
    "ans:-\n"
   ]
  },
  {
   "cell_type": "code",
   "execution_count": 2,
   "id": "545fd4ea",
   "metadata": {},
   "outputs": [
    {
     "name": "stderr",
     "output_type": "stream",
     "text": [
      "WARNING:root:Hello World\n"
     ]
    }
   ],
   "source": [
    "import logging\n",
    "\n",
    "logging.basicConfig(filename='app.log', filemode='w', format='%(name)s - %(levelname)s - %(message)s')\n",
    "logging.warning('Hello World')"
   ]
  },
  {
   "cell_type": "code",
   "execution_count": 3,
   "id": "248deb91",
   "metadata": {},
   "outputs": [
    {
     "name": "stderr",
     "output_type": "stream",
     "text": [
      "INFO:root:User Admin User logged in\n"
     ]
    }
   ],
   "source": [
    "import logging\n",
    "\n",
    "logging.basicConfig(level=logging.INFO)\n",
    "\n",
    "def login(user):\n",
    "    logging.info('User %s logged in', user)\n",
    "\n",
    "login('Admin User')"
   ]
  },
  {
   "cell_type": "code",
   "execution_count": 4,
   "id": "144f1b37",
   "metadata": {},
   "outputs": [
    {
     "name": "stderr",
     "output_type": "stream",
     "text": [
      "ERROR:oneDayFileLoader:overwrite\n"
     ]
    }
   ],
   "source": [
    "import os\n",
    "import logging\n",
    "paths = {'work': ''}\n",
    "logger = logging.getLogger('oneDayFileLoader')\n",
    "if logger.handlers:\n",
    "   logger.handlers[0].close()\n",
    "   logger.handlers = []\n",
    "logHandler = logging.FileHandler(os.path.join(paths[\"work\"] , \"oneDayFileLoader.log\"), mode='w')\n",
    "formatter = logging.Formatter('%(asctime)s %(levelname)s %(message)s')\n",
    "logHandler.setFormatter(formatter)\n",
    "logger.addHandler(logHandler) \n",
    "logger.setLevel(logging.DEBUG)\n",
    "logger.error('overwrite')"
   ]
  },
  {
   "cell_type": "markdown",
   "id": "35db8901",
   "metadata": {},
   "source": [
    "# 11. Create a Python program that logs an error message to the console and a file named \"errors.log\" if an exception occurs during the program's execution. The error message should include the exception type and a timestamp.\n",
    "\n",
    "ans:-"
   ]
  },
  {
   "cell_type": "code",
   "execution_count": 5,
   "id": "0f249021",
   "metadata": {},
   "outputs": [
    {
     "name": "stderr",
     "output_type": "stream",
     "text": [
      "ERROR:root:Exception occurred\n",
      "Traceback (most recent call last):\n",
      "  File \"C:\\Users\\HP\\AppData\\Local\\Temp\\ipykernel_3084\\3671533921.py\", line 6, in <module>\n",
      "    c = a / b\n",
      "ZeroDivisionError: division by zero\n"
     ]
    }
   ],
   "source": [
    "import logging\n",
    "\n",
    "a = 5\n",
    "b = 0\n",
    "try:\n",
    "    c = a / b\n",
    "except Exception as e:\n",
    "    logging.exception(\"Exception occurred\")"
   ]
  },
  {
   "cell_type": "code",
   "execution_count": null,
   "id": "dd4803d8",
   "metadata": {},
   "outputs": [],
   "source": []
  }
 ],
 "metadata": {
  "kernelspec": {
   "display_name": "Python 3 (ipykernel)",
   "language": "python",
   "name": "python3"
  },
  "language_info": {
   "codemirror_mode": {
    "name": "ipython",
    "version": 3
   },
   "file_extension": ".py",
   "mimetype": "text/x-python",
   "name": "python",
   "nbconvert_exporter": "python",
   "pygments_lexer": "ipython3",
   "version": "3.10.9"
  }
 },
 "nbformat": 4,
 "nbformat_minor": 5
}
