{
 "cells": [
  {
   "cell_type": "markdown",
   "id": "744d3973",
   "metadata": {},
   "source": [
    "# 1. What is the role of try and exception block?\n",
    "\n",
    "ans:-\n",
    "\n",
    "The try block lets you test a block of code for errors.\n",
    "\n",
    "The except block lets you handle the error.\n",
    "\n",
    "The else block lets you execute code when there is no error.\n",
    "\n",
    "The finally block lets you execute code, regardless of the result of the try- and except blocks.\n"
   ]
  },
  {
   "cell_type": "markdown",
   "id": "1a2a0f28",
   "metadata": {},
   "source": [
    "# 2. What is the syntax for a basic try-except block?\n",
    "\n",
    "ans:-"
   ]
  },
  {
   "cell_type": "code",
   "execution_count": null,
   "id": "e55fbd7e",
   "metadata": {},
   "outputs": [],
   "source": [
    "try:\n",
    "    # Some Code\n",
    "except:\n",
    "    # Executed if error in the\n",
    "    # try block\n",
    "    "
   ]
  },
  {
   "cell_type": "code",
   "execution_count": null,
   "id": "87c38358",
   "metadata": {},
   "outputs": [],
   "source": [
    "try:\n",
    "       # Some Code.... \n",
    "\n",
    "except:\n",
    "       # optional block\n",
    "       # Handling of exception (if required)\n",
    "\n",
    "else:\n",
    "       # execute if no exception\n",
    "\n",
    "finally:\n",
    "      # Some code .....(always executed)"
   ]
  },
  {
   "cell_type": "markdown",
   "id": "2053f6f5",
   "metadata": {},
   "source": [
    "# 3. What happens if an exception occurs inside a try block and there is no matching except block?\n",
    "\n",
    "ans:-\n",
    "\n",
    "If an exception occurs which does not match the exception named in the except clause, it is passed on to outer try statements"
   ]
  },
  {
   "cell_type": "code",
   "execution_count": 1,
   "id": "0f84fa6b",
   "metadata": {},
   "outputs": [
    {
     "ename": "ZeroDivisionError",
     "evalue": "division by zero",
     "output_type": "error",
     "traceback": [
      "\u001b[1;31m---------------------------------------------------------------------------\u001b[0m",
      "\u001b[1;31mZeroDivisionError\u001b[0m                         Traceback (most recent call last)",
      "Cell \u001b[1;32mIn[1], line 3\u001b[0m\n\u001b[0;32m      1\u001b[0m \u001b[38;5;28;01mtry\u001b[39;00m:\n\u001b[0;32m      2\u001b[0m     \u001b[38;5;66;03m# Code that may raise an exception\u001b[39;00m\n\u001b[1;32m----> 3\u001b[0m     result \u001b[38;5;241m=\u001b[39m \u001b[38;5;241;43m10\u001b[39;49m\u001b[43m \u001b[49m\u001b[38;5;241;43m/\u001b[39;49m\u001b[43m \u001b[49m\u001b[38;5;241;43m0\u001b[39;49m  \u001b[38;5;66;03m# Division by zero exception\u001b[39;00m\n\u001b[0;32m      4\u001b[0m \u001b[38;5;28;01mexcept\u001b[39;00m \u001b[38;5;167;01mValueError\u001b[39;00m:\n\u001b[0;32m      5\u001b[0m     \u001b[38;5;66;03m# This except block does not match the raised ZeroDivisionError\u001b[39;00m\n\u001b[0;32m      6\u001b[0m     \u001b[38;5;28mprint\u001b[39m(\u001b[38;5;124m\"\u001b[39m\u001b[38;5;124mThis code will not be executed.\u001b[39m\u001b[38;5;124m\"\u001b[39m)\n",
      "\u001b[1;31mZeroDivisionError\u001b[0m: division by zero"
     ]
    }
   ],
   "source": [
    "try:\n",
    "    # Code that may raise an exception\n",
    "    result = 10 / 0  # Division by zero exception\n",
    "except ValueError:\n",
    "    # This except block does not match the raised ZeroDivisionError\n",
    "    print(\"This code will not be executed.\")"
   ]
  },
  {
   "cell_type": "markdown",
   "id": "dd399333",
   "metadata": {},
   "source": [
    "# 4. What is the difference between using a bare except block and specifying a specific exception type?\n",
    "\n",
    "ans:-\n",
    "\n",
    "a = 5 b = 0 x = a / b\n",
    "\n",
    "Executing this will alert you to the fact that you have attempted to divide a float by zero but it will crash your code.\n",
    "\n",
    "Now consider:"
   ]
  },
  {
   "cell_type": "code",
   "execution_count": 2,
   "id": "9ffb49a6",
   "metadata": {},
   "outputs": [
    {
     "name": "stdout",
     "output_type": "stream",
     "text": [
      "An exception was raised\n"
     ]
    }
   ],
   "source": [
    "a = 5\n",
    "b = 0\n",
    "try:\n",
    "    x = a / b\n",
    "except: # or 'except Exception:'\n",
    "    print(\"An exception was raised\")"
   ]
  },
  {
   "cell_type": "markdown",
   "id": "db753253",
   "metadata": {},
   "source": [
    "This will raise an exception that is handled by printing a message that an error occurred. You code will not crash but you do not know how to properly handle the code because you do not know what the exception was, just that one occurred.\n",
    "\n",
    "Now your code does not crash. Is handled and you know what the error was."
   ]
  },
  {
   "cell_type": "code",
   "execution_count": 3,
   "id": "d78d3a23",
   "metadata": {},
   "outputs": [
    {
     "name": "stdout",
     "output_type": "stream",
     "text": [
      "An exception was raised, generating error division by zero\n"
     ]
    }
   ],
   "source": [
    "a = 5\n",
    "b = 0\n",
    "try:\n",
    "    x = a / b\n",
    "except Exception as e:\n",
    "    print(\"An exception was raised, generating error\", e)"
   ]
  },
  {
   "cell_type": "markdown",
   "id": "72317646",
   "metadata": {},
   "source": [
    "# 5. Can you have nested try-except blocks in Python? If yes, then give an example.\n",
    "\n",
    "ans:-\n",
    "\n",
    "Yes, it is possible to have nested try-except blocks in Python. Nested try-except blocks allow for more granular exception handling, where you can catch specific exceptions in inner blocks while handling broader exceptions in outer blocks.\n",
    "Here's an example:"
   ]
  },
  {
   "cell_type": "code",
   "execution_count": 1,
   "id": "f7ada2f2",
   "metadata": {},
   "outputs": [
    {
     "name": "stdout",
     "output_type": "stream",
     "text": [
      "Caught ZeroDivisionError in outer try-except block\n",
      "Caught ValueError in inner try-except block\n"
     ]
    }
   ],
   "source": [
    "try:\n",
    "    outer_var = 10 / 0  \n",
    "except ZeroDivisionError:\n",
    "    print(\"Caught ZeroDivisionError in outer try-except block\")\n",
    "    try:\n",
    "        inner_var = int(\"abc\")  \n",
    "    except ValueError:\n",
    "        print(\"Caught ValueError in inner try-except block\")"
   ]
  },
  {
   "cell_type": "markdown",
   "id": "9480bee4",
   "metadata": {},
   "source": [
    "# 6. Can we use multiple exception blocks, if yes then give an example.\n",
    "\n",
    "ans:-\n",
    "\n",
    "Yes, it is possible to use multiple except blocks in a try-except statement in Python. This allows you to catch and handle different types of exceptions separately. Here's an example:"
   ]
  },
  {
   "cell_type": "code",
   "execution_count": 2,
   "id": "c780f82e",
   "metadata": {},
   "outputs": [
    {
     "name": "stdout",
     "output_type": "stream",
     "text": [
      "Caught ZeroDivisionError\n"
     ]
    }
   ],
   "source": [
    "try:\n",
    "    a = 10 / 0  \n",
    "    b = int(\"abc\") \n",
    "except ZeroDivisionError:\n",
    "    print(\"Caught ZeroDivisionError\")\n",
    "except ValueError:\n",
    "    print(\"Caught ValueError\")"
   ]
  },
  {
   "cell_type": "markdown",
   "id": "1476aab2",
   "metadata": {},
   "source": [
    "# 7. Write the reason due to which following errors are raised:\n",
    "# a. EOFError\n",
    "# b. FloatingPointError\n",
    "# c. IndexError\n",
    "# d. MemoryError\n",
    "# e. OverflowError\n",
    "# f. TabError\n",
    "# g. ValueError\n",
    "\n",
    "ans:-\n",
    "\n",
    "a. EOFError ---> \"end of line error\" The reason that EOFError occurs is that Python attempts to print out your input in variable string when no data is given\n",
    "\n",
    "b. FloatingPointError ---> when a floating-point calculation is attempted that is not supported by the available hardware or software. It occurs when trying to calculate a number that is too large or too small to represent as a floating-point number.\n",
    "\n",
    "c. IndexError ---> when an attempt is made to access an item in a list at an index which is out of bounds. The range of a list in Python is [0, n-1], where n is the number of elements in the list.\n",
    "\n",
    "d. MemoryError ---->This may be due to an issue in the setup of the Python environment or it may be a concern with the code itself loading too much data at the same time\n",
    "\n",
    "e. OverflowError ---->when the data type used to store data was not large enough to hold the data.\n",
    "\n",
    "f. TabError ----> inconsistent use of tabs and spaces in indentation” occurs when you mix tabs and spaces to indent lines in a code block.\n",
    "\n",
    "g. ValueError ---> when a function receives an argument of the correct type but an inappropriate value"
   ]
  },
  {
   "cell_type": "markdown",
   "id": "7aee6ac7",
   "metadata": {},
   "source": [
    "# 8. Write code for the following given scenario and add try-exception block to it.\n",
    "# a. Program to divide two numbers\n",
    "# b. Program to convert a string to an integer\n",
    "# c. Program to access an element in a list\n",
    "# d. Program to handle a specific exception\n",
    "# e. Program to handle any exception\n",
    "\n",
    "ans:-\n"
   ]
  },
  {
   "cell_type": "markdown",
   "id": "e9d9618e",
   "metadata": {},
   "source": [
    "# a. Program to divide two numbers"
   ]
  },
  {
   "cell_type": "code",
   "execution_count": 1,
   "id": "a1bb99dd",
   "metadata": {},
   "outputs": [
    {
     "name": "stdout",
     "output_type": "stream",
     "text": [
      "Error: Denominator cannot be 0.\n"
     ]
    }
   ],
   "source": [
    "try:\n",
    "    numerator = 10\n",
    "    denominator = 0\n",
    "\n",
    "    result = numerator/denominator\n",
    "\n",
    "    print(result)\n",
    "except:\n",
    "    print(\"Error: Denominator cannot be 0.\")"
   ]
  },
  {
   "cell_type": "markdown",
   "id": "75406ea3",
   "metadata": {},
   "source": [
    "# b. Program to convert a string to an integer"
   ]
  },
  {
   "cell_type": "code",
   "execution_count": 2,
   "id": "596d468f",
   "metadata": {},
   "outputs": [
    {
     "name": "stdout",
     "output_type": "stream",
     "text": [
      "Enter an integer: 10\n",
      "Converted integer: 10\n"
     ]
    }
   ],
   "source": [
    "try:\n",
    "    value = input(\"Enter an integer: \")\n",
    "    result = int(value)\n",
    "    print(\"Converted integer:\", result)\n",
    "except ValueError:\n",
    "    print(\"Error: Invalid input. Please enter a valid integer.\")"
   ]
  },
  {
   "cell_type": "markdown",
   "id": "ed3699ce",
   "metadata": {},
   "source": [
    "# c. Program to access an element in a list"
   ]
  },
  {
   "cell_type": "code",
   "execution_count": 3,
   "id": "1fccbec2",
   "metadata": {},
   "outputs": [
    {
     "name": "stdout",
     "output_type": "stream",
     "text": [
      "Index 9 is not avaible in your list\n"
     ]
    }
   ],
   "source": [
    "l=[1,2,3,4,5]\n",
    "try:\n",
    "    for i  in range(len(l)):\n",
    "        print(l[9])\n",
    "except IndexError:\n",
    "    print(\"Index 9 is not avaible in your list\")"
   ]
  },
  {
   "cell_type": "markdown",
   "id": "ca12a115",
   "metadata": {},
   "source": [
    "# d. Program to handle a specific exception"
   ]
  },
  {
   "cell_type": "code",
   "execution_count": 4,
   "id": "3de262f5",
   "metadata": {},
   "outputs": [
    {
     "name": "stdout",
     "output_type": "stream",
     "text": [
      "Error: cannot add an int and a str\n"
     ]
    }
   ],
   "source": [
    "# try to handle type erorr\n",
    "x = 5\n",
    "y = \"hello\"\n",
    "try:\n",
    "    z = x + y\n",
    "except TypeError:\n",
    "    print(\"Error: cannot add an int and a str\")"
   ]
  },
  {
   "cell_type": "markdown",
   "id": "c972143f",
   "metadata": {},
   "source": [
    "# e. Program to handle any exception"
   ]
  },
  {
   "cell_type": "code",
   "execution_count": 5,
   "id": "d3fe66d4",
   "metadata": {},
   "outputs": [
    {
     "name": "stdout",
     "output_type": "stream",
     "text": [
      "Enter the dividend: 50\n",
      "Enter the divisor: 0\n",
      "An error occurred: division by zero\n"
     ]
    }
   ],
   "source": [
    "try:\n",
    "    dividend = int(input(\"Enter the dividend: \"))\n",
    "    divisor = int(input(\"Enter the divisor: \"))\n",
    "\n",
    "    result = dividend / divisor\n",
    "    print(\"Result:\", result)\n",
    "\n",
    "except Exception as e:\n",
    "    print(\"An error occurred:\", str(e))"
   ]
  },
  {
   "cell_type": "code",
   "execution_count": null,
   "id": "039a798b",
   "metadata": {},
   "outputs": [],
   "source": []
  }
 ],
 "metadata": {
  "kernelspec": {
   "display_name": "Python 3 (ipykernel)",
   "language": "python",
   "name": "python3"
  },
  "language_info": {
   "codemirror_mode": {
    "name": "ipython",
    "version": 3
   },
   "file_extension": ".py",
   "mimetype": "text/x-python",
   "name": "python",
   "nbconvert_exporter": "python",
   "pygments_lexer": "ipython3",
   "version": "3.10.9"
  }
 },
 "nbformat": 4,
 "nbformat_minor": 5
}
