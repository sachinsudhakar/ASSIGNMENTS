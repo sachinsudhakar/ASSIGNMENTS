{
 "cells": [
  {
   "cell_type": "markdown",
   "id": "dad6e662",
   "metadata": {},
   "source": [
    "# Q.1. What are keywords in python? Using the keyword library, print all the python keywords.\n",
    "\n",
    "ans:-\n",
    "\n",
    "Keywords in Python are reserved words that have predefined meanings and cannot be used as identifiers (variable names, function names, etc.) in the code. These keywords are used to define the syntax and structure of the Python language."
   ]
  },
  {
   "cell_type": "code",
   "execution_count": 1,
   "id": "ef160bbc",
   "metadata": {},
   "outputs": [
    {
     "name": "stdout",
     "output_type": "stream",
     "text": [
      "['False', 'None', 'True', 'and', 'as', 'assert', 'async', 'await', 'break', 'class', 'continue', 'def', 'del', 'elif', 'else', 'except', 'finally', 'for', 'from', 'global', 'if', 'import', 'in', 'is', 'lambda', 'nonlocal', 'not', 'or', 'pass', 'raise', 'return', 'try', 'while', 'with', 'yield']\n"
     ]
    }
   ],
   "source": [
    "import keyword\n",
    "all_keywords = keyword.kwlist\n",
    "print(all_keywords)"
   ]
  },
  {
   "cell_type": "markdown",
   "id": "7c8ef59c",
   "metadata": {},
   "source": [
    "# Q.2. What are the rules to create variables in python?\n",
    "\n",
    "ans:-\n",
    "\n",
    "1.A variable name must start with a letter or the underscore character.\n",
    "\n",
    "2.A variable name cannot start with a number.\n",
    "\n",
    "3.A variable name can only contain alpha-numeric characters and underscores (A-z, 0-9, and _ )\n",
    "\n",
    "4.Variable names are case-sensitive (age, Age and AGE are three different variables)"
   ]
  },
  {
   "cell_type": "markdown",
   "id": "09ebc222",
   "metadata": {},
   "source": [
    "# Q.3. What are the standards and conventions followed for the nomenclature of variables in python to improve code readability and maintainability?\n",
    "\n",
    "ans:-\n",
    "\n",
    "In Python, there are several standards and conventions followed for variable naming to enhance code readability and maintainability. These conventions include:\n",
    "\n",
    "  1.Snake Case: Variable names are written in lowercase with words separated by underscores (e.g., my_variable, total_count).\n",
    "\n",
    "  2.Descriptive Names: Variable names should be meaningful and descriptive to convey their purpose and content (e.g., num_students, user_input).\n",
    "\n",
    "  3.Avoid Abbreviations: Unless widely used and understood, it's better to avoid excessive abbreviations to maintain clarity (e.g., use maximum instead of max).\n",
    "\n",
    "  4.Use of Constants: Constants are usually written in uppercase letters with underscores (e.g., MAX_VALUE, PI).\n",
    "\n",
    "By following these standards and conventions, code becomes more readable, self-explanatory, and easier to maintain, enabling collaboration and understanding among developers."
   ]
  },
  {
   "cell_type": "markdown",
   "id": "e1b73c65",
   "metadata": {},
   "source": [
    "# Q.4. What will happen if a keyword is used as a variable name?\n",
    "\n",
    "ans:-\n",
    "\n",
    "We cannot use a keyword as a variable name, function name, or any other identifier.\n",
    "\n",
    "it will result in a syntax error."
   ]
  },
  {
   "cell_type": "markdown",
   "id": "19b76f7d",
   "metadata": {},
   "source": [
    "# Q.5. For what purpose def keyword is used?\n",
    "\n",
    "ans:-\n",
    "\n",
    "The def keyword is used to create, (or define) a function."
   ]
  },
  {
   "cell_type": "markdown",
   "id": "3a13f654",
   "metadata": {},
   "source": [
    "# Q.6. What is the operation of this special character ‘\\’?\n",
    "\n",
    "ans:-\n",
    "\n",
    "The backslash character () is an escape character in Python. It is used to indicate special characters or sequences in strings. For example, \\n represents a newline character, \\t represents a tab character, and \" represents a double quote character. It allows the inclusion of characters that are not easily typable or have special meanings within strings."
   ]
  },
  {
   "cell_type": "markdown",
   "id": "545a3f5f",
   "metadata": {},
   "source": [
    "# Q.7. Give an example of the following conditions:\n",
    "\n",
    "# (i)  Homogeneous list\n",
    "\n",
    "# (ii) Heterogeneous set\n",
    "\n",
    "# (iii) Homogeneous tuple\n",
    "\n",
    "ans:-\n",
    "\n",
    "(i) Homogeneous list: A homogeneous list is a list where all the elements are of the same data type. Here's an example of a homogeneous list of integers:"
   ]
  },
  {
   "cell_type": "code",
   "execution_count": null,
   "id": "d36e70ea",
   "metadata": {},
   "outputs": [],
   "source": [
    "numbers = [1, 2, 3, 4, 5]"
   ]
  },
  {
   "cell_type": "markdown",
   "id": "638cfc3c",
   "metadata": {},
   "source": [
    "(ii) Heterogeneous set: A heterogeneous set is a set where the elements can be of different data types. Here's an example of a heterogeneous set:"
   ]
  },
  {
   "cell_type": "code",
   "execution_count": null,
   "id": "1c528c81",
   "metadata": {},
   "outputs": [],
   "source": [
    "my_set = {1, 'apple', True, 3.14}"
   ]
  },
  {
   "cell_type": "markdown",
   "id": "917fb929",
   "metadata": {},
   "source": [
    "(iii) Homogeneous tuple: A homogeneous tuple is a tuple where all the elements are of the same data type. Here's an example of a homogeneous tuple of strings:"
   ]
  },
  {
   "cell_type": "code",
   "execution_count": null,
   "id": "681a7d9f",
   "metadata": {},
   "outputs": [],
   "source": [
    "fruits = ('apple', 'banana', 'orange', 'kiwi')"
   ]
  },
  {
   "cell_type": "markdown",
   "id": "ceb6e5b1",
   "metadata": {},
   "source": [
    "# Q.8. Explain the mutable and immutable data types with proper explanation & examples.\n",
    "\n",
    "ans:-\n",
    "\n",
    "# mutable:\n",
    "\n",
    "list is mutable, which means that their elements can be changed(added,modified or deleted) after they created.\n",
    "\n",
    "# immutable:\n",
    "\n",
    "tuple is immutable data type , which is cant be add or modify or delete  once we create objects"
   ]
  },
  {
   "cell_type": "markdown",
   "id": "c5435776",
   "metadata": {},
   "source": [
    "# Q.9. Write a code to create the given structure using only for loop.\n",
    "        *\n",
    "       ***\n",
    "      *****\n",
    "     *******\n",
    "    *********\n",
    "ans:-"
   ]
  },
  {
   "cell_type": "code",
   "execution_count": 2,
   "id": "2802252e",
   "metadata": {},
   "outputs": [
    {
     "name": "stdout",
     "output_type": "stream",
     "text": [
      "          * \n",
      "        * * * \n",
      "      * * * * * \n",
      "    * * * * * * * \n",
      "  * * * * * * * * * \n"
     ]
    }
   ],
   "source": [
    "n = 5\n",
    "for i in range(n):\n",
    "    for j in range(i,n):\n",
    "        print(\" \", end = \" \")\n",
    "    for j in range(i):\n",
    "        print(\"*\", end=\" \")\n",
    "    for j in range(i+1):\n",
    "        print(\"*\", end=\" \")\n",
    "    print()"
   ]
  },
  {
   "cell_type": "markdown",
   "id": "f2cc1f25",
   "metadata": {},
   "source": [
    "# Q.10. Write a code to create the given structure using while loop.\n",
    "\n",
    "    |||||||||\n",
    "\n",
    "     |||||||\n",
    "\n",
    "      |||||\n",
    "\n",
    "       |||\n",
    "\n",
    "        |"
   ]
  },
  {
   "cell_type": "code",
   "execution_count": 3,
   "id": "fc7f4ec9",
   "metadata": {},
   "outputs": [
    {
     "name": "stdout",
     "output_type": "stream",
     "text": [
      "  | | | | | | | | | \n",
      "    | | | | | | | \n",
      "      | | | | | \n",
      "        | | | \n",
      "          | \n"
     ]
    }
   ],
   "source": [
    "n=5\n",
    "\n",
    "for i in range(n):\n",
    "    for j in range(i+1):\n",
    "        print(\" \", end =\" \")\n",
    "    for j in range(i,n):\n",
    "        print(\"|\", end= \" \")\n",
    "    for j in range(i, n-1):\n",
    "        print(\"|\", end= \" \")\n",
    "    print()"
   ]
  },
  {
   "cell_type": "code",
   "execution_count": null,
   "id": "3c13a898",
   "metadata": {},
   "outputs": [],
   "source": []
  }
 ],
 "metadata": {
  "kernelspec": {
   "display_name": "Python 3 (ipykernel)",
   "language": "python",
   "name": "python3"
  },
  "language_info": {
   "codemirror_mode": {
    "name": "ipython",
    "version": 3
   },
   "file_extension": ".py",
   "mimetype": "text/x-python",
   "name": "python",
   "nbconvert_exporter": "python",
   "pygments_lexer": "ipython3",
   "version": "3.10.9"
  }
 },
 "nbformat": 4,
 "nbformat_minor": 5
}
