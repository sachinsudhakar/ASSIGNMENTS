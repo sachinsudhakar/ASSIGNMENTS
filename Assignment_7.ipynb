{
 "cells": [
  {
   "cell_type": "markdown",
   "id": "90a02d37",
   "metadata": {},
   "source": [
    "# # Q.1. Create two int type variables, apply addition, subtraction, division and multiplications and store the results in variables. Then print the data in the following format by calling the variables:\n",
    "\n",
    "First variable is __ & second variable is __.\n",
    "\n",
    "Addition: __ + __ = __\n",
    "\n",
    "Subtraction: __ - __ = __\n",
    "\n",
    "Multiplication: __ * __ = __\n",
    "\n",
    "Division: __ / __ = __\n",
    "\n",
    "ans:-"
   ]
  },
  {
   "cell_type": "code",
   "execution_count": 1,
   "id": "f1c5443a",
   "metadata": {},
   "outputs": [
    {
     "name": "stdout",
     "output_type": "stream",
     "text": [
      "First variable is 10 & second variable is 5.\n",
      "Addition : 10 + 5 = 15\n",
      "Subtraction : 10 - 5 = 5\n",
      "Multiplication : 10 * 5 = 50\n",
      "Division : 10 / 5 = 2.0\n"
     ]
    }
   ],
   "source": [
    "num1= 10\n",
    "num2= 5\n",
    "\n",
    "addition = num1+num2\n",
    "\n",
    "subtraction = num1-num2\n",
    "\n",
    "multiplication = num1*num2\n",
    "\n",
    "division=num1/num2\n",
    "\n",
    "print(f\"First variable is {num1} & second variable is {num2}.\")\n",
    "print(f\"Addition : {num1} + {num2} = {addition}\")\n",
    "print(f\"Subtraction : {num1} - {num2} = {subtraction}\")\n",
    "print(f\"Multiplication : {num1} * {num2} = {multiplication}\")\n",
    "print(f\"Division : {num1} / {num2} = {division}\")"
   ]
  },
  {
   "cell_type": "markdown",
   "id": "55c530d4",
   "metadata": {},
   "source": [
    "# Q.2. What is the difference between the following operators:\n",
    "\n",
    "# (i) ‘/’ & ‘//’\n",
    "\n",
    "# (ii) ‘**’ & ‘^’\n",
    "\n",
    "ans:-\n",
    "\n",
    "# (i) The '/' and '//' operators are used for division in Python, but they have different behaviors.\n",
    "\n",
    "The '/' operator performs normal division and returns a float result. It performs floating-point division, even if the operands are integers."
   ]
  },
  {
   "cell_type": "code",
   "execution_count": 2,
   "id": "9db27746",
   "metadata": {},
   "outputs": [
    {
     "name": "stdout",
     "output_type": "stream",
     "text": [
      "1.6666666666666667\n"
     ]
    }
   ],
   "source": [
    "result = 5 / 3\n",
    "print(result)  # Output: 1.6666666666666667"
   ]
  },
  {
   "cell_type": "markdown",
   "id": "102bdfbc",
   "metadata": {},
   "source": [
    "The '//' operator is known as the floor division or integer division operator. It performs division and returns the floor (rounded down) of the quotient as an integer. It discards the fractional part of the result.\n",
    "result = 5 // 3"
   ]
  },
  {
   "cell_type": "code",
   "execution_count": 3,
   "id": "6b487879",
   "metadata": {},
   "outputs": [
    {
     "name": "stdout",
     "output_type": "stream",
     "text": [
      "1\n"
     ]
    }
   ],
   "source": [
    "result = 5 // 3\n",
    "print(result)  # Output: 1"
   ]
  },
  {
   "cell_type": "markdown",
   "id": "df96362b",
   "metadata": {},
   "source": [
    "# (ii) The '**' and '^' operators are used for exponentiation, but they have different meanings.\n",
    "\n",
    "The '**' operator is used for exponentiation in Python. It raises the left operand to the power of the right operand."
   ]
  },
  {
   "cell_type": "code",
   "execution_count": 4,
   "id": "9926b721",
   "metadata": {},
   "outputs": [
    {
     "name": "stdout",
     "output_type": "stream",
     "text": [
      "8\n"
     ]
    }
   ],
   "source": [
    "result = 2 ** 3\n",
    "print(result)  # Output: 8"
   ]
  },
  {
   "cell_type": "markdown",
   "id": "6d14c7e2",
   "metadata": {},
   "source": [
    "The '^' operator, on the other hand, is not used for exponentiation in Python. Instead, it is the bitwise XOR operator used for performing bitwise exclusive OR operations between two integers."
   ]
  },
  {
   "cell_type": "code",
   "execution_count": 5,
   "id": "33e1d2a8",
   "metadata": {},
   "outputs": [
    {
     "name": "stdout",
     "output_type": "stream",
     "text": [
      "6\n"
     ]
    }
   ],
   "source": [
    "result = 5 ^ 3\n",
    "print(result)  # Output: 6"
   ]
  },
  {
   "cell_type": "markdown",
   "id": "d0f6d909",
   "metadata": {},
   "source": [
    "# Q.3. List the logical operators.\n",
    "\n",
    "ans:-\n",
    "\n",
    "The logical operators in Python are:\n",
    "\n",
    "  1.and: The and operator returns True if both operands are True, and False otherwise.\n",
    "\n",
    "  2.or: The or operator returns True if at least one of the operands is True, and False otherwise.\n",
    "\n",
    "  3.not: The not operator returns the negation of the operand. It returns True if the operand is False, and False if the operand is True.\n",
    "\n",
    "These logical operators are commonly used to combine conditions and perform logical operations in control structures like if statements and loops."
   ]
  },
  {
   "cell_type": "markdown",
   "id": "9d18ed75",
   "metadata": {},
   "source": [
    "# Q.4. Explain right shift operator and left shift operator with examples.\n",
    "\n",
    "ans:-\n",
    "\n",
    "# right shift"
   ]
  },
  {
   "cell_type": "code",
   "execution_count": 6,
   "id": "8f27b0d6",
   "metadata": {},
   "outputs": [
    {
     "name": "stdout",
     "output_type": "stream",
     "text": [
      "4\n"
     ]
    },
    {
     "data": {
      "text/plain": [
       "'0b100'"
      ]
     },
     "execution_count": 6,
     "metadata": {},
     "output_type": "execute_result"
    }
   ],
   "source": [
    "a=19   #1010\n",
    "result=a>>2 #2=0010\n",
    "print(result)\n",
    "\n",
    "#1010    #10011  right shift by 2 bit  00100=4\n",
    "#0010    #00010\n",
    "bin(4)"
   ]
  },
  {
   "cell_type": "markdown",
   "id": "a5befade",
   "metadata": {},
   "source": [
    "# left shift"
   ]
  },
  {
   "cell_type": "code",
   "execution_count": 7,
   "id": "0a090a82",
   "metadata": {},
   "outputs": [
    {
     "name": "stdout",
     "output_type": "stream",
     "text": [
      "40\n"
     ]
    },
    {
     "data": {
      "text/plain": [
       "'0b101000'"
      ]
     },
     "execution_count": 7,
     "metadata": {},
     "output_type": "execute_result"
    }
   ],
   "source": [
    "a=10   #1010\n",
    "result=a<<2 #2=0010\n",
    "print(result)\n",
    "\n",
    "#1010  #101000  leftt shift by 2 bit  101000=40\n",
    "#0010    #0010\n",
    "bin(40)"
   ]
  },
  {
   "cell_type": "markdown",
   "id": "c614842a",
   "metadata": {},
   "source": [
    "# Q.5. Create a list containing int type data of length 15. Then write a code to check if 10 is present in the list or not.\n",
    "\n",
    "ans:-"
   ]
  },
  {
   "cell_type": "code",
   "execution_count": 8,
   "id": "b52160df",
   "metadata": {},
   "outputs": [
    {
     "name": "stdout",
     "output_type": "stream",
     "text": [
      "15\n",
      "10 is present in the list.\n"
     ]
    }
   ],
   "source": [
    "# Create a list of integers\n",
    "list=[1,2,3,4,5,6,7,8,9,10,11,12,13,14,15]\n",
    "print(len(list))\n",
    "\n",
    "# Check if 10 is present in the list\n",
    "if 10 in list:\n",
    "    print(\"10 is present in the list.\")\n",
    "else:\n",
    "    print(\"10 is not present in the list.\")"
   ]
  },
  {
   "cell_type": "code",
   "execution_count": null,
   "id": "c5b7d7a9",
   "metadata": {},
   "outputs": [],
   "source": []
  }
 ],
 "metadata": {
  "kernelspec": {
   "display_name": "Python 3 (ipykernel)",
   "language": "python",
   "name": "python3"
  },
  "language_info": {
   "codemirror_mode": {
    "name": "ipython",
    "version": 3
   },
   "file_extension": ".py",
   "mimetype": "text/x-python",
   "name": "python",
   "nbconvert_exporter": "python",
   "pygments_lexer": "ipython3",
   "version": "3.10.9"
  }
 },
 "nbformat": 4,
 "nbformat_minor": 5
}
