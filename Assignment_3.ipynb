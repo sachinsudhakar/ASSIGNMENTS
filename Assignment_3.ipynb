{
 "cells": [
  {
   "cell_type": "markdown",
   "id": "197761a1",
   "metadata": {},
   "source": [
    "# 1. Why are functions advantageous to have in your programs?\n",
    "\n",
    "ans:-\n",
    "     \n",
    "     Functions reduce the need for duplicate code. This makes programs shorter, easier to read, and easier to update\n",
    "    "
   ]
  },
  {
   "cell_type": "markdown",
   "id": "0c2ff536",
   "metadata": {},
   "source": [
    "# 2. When does the code in a function run: when it's specified or when it's called?\n",
    "\n",
    "ans:-\n",
    "\n",
    "    The code in a function executes when the function is called.\n",
    "    The code in a function doesnot execute when the function is specified/declared."
   ]
  },
  {
   "cell_type": "markdown",
   "id": "73e6f14a",
   "metadata": {},
   "source": [
    "# 3. What statement creates a function?\n",
    "\n",
    "ans:-\n",
    "\n",
    "    The def statement defines (i.e. creates) a function."
   ]
  },
  {
   "cell_type": "code",
   "execution_count": null,
   "id": "1adea7ec",
   "metadata": {},
   "outputs": [],
   "source": [
    "def function_name(parameters):\n",
    "    # Function body (code block)\n",
    "    # ...\n",
    "    # ...\n",
    "    return value"
   ]
  },
  {
   "cell_type": "markdown",
   "id": "53bccd69",
   "metadata": {},
   "source": [
    "# 4. What is the difference between a function and a function call?\n",
    "\n",
    "ans:-\n",
    "\n",
    "    Function\n",
    "    1.Definition - It is a block of code, that contains some logic according to requirements.\n",
    "    2.Purpose - Helps to make codes modular. It is reusable and redundant. Large codes are maintained easily.\n",
    "    3.Structure - It has keyword 'def', then name , then parenthesis(optional arguments), return value(optional).\n",
    "    4.Execution - They are not executed automatically when the function is 'Defined'. It's executed when the function is called.\n",
    "\n",
    "eg:- "
   ]
  },
  {
   "cell_type": "code",
   "execution_count": null,
   "id": "0bdb7370",
   "metadata": {},
   "outputs": [],
   "source": [
    "# Creating user defined multiplication \n",
    "def mult(a,b):\n",
    "    \n",
    "    '''a - Takes first input number\n",
    "       b - Takes second input number\n",
    "       output - Gives an output which is the result of multiplication of a and b. '''\n",
    "    \n",
    "    # Computes the output logic\n",
    "    out = a * b \n",
    "    \n",
    "    # returns the output value\n",
    "    return out"
   ]
  },
  {
   "cell_type": "markdown",
   "id": "b7e6d942",
   "metadata": {},
   "source": [
    "    \n",
    "    Function call\n",
    "    1.Definition - Function call is an instruction to execute the particuar function. Parameters can be passed according to definition of the function.\n",
    "    2.Purpose - Function call is used to invoke a function and execute its logic.\n",
    "    3.Structure - A function is called using the function name and the inputs are passed in arguments inside parenthesis(if function takes arguments).\n",
    "    4.Execution - When the function call is executed, it jumps to main function definition, executes the logic inside and returns the output(if value is returned).\n",
    "    5.Result - The return value can be assigned to a variable or can be used in different part of code by using it's direct result\n",
    "    \n",
    "eg:-"
   ]
  },
  {
   "cell_type": "code",
   "execution_count": null,
   "id": "306d2e9a",
   "metadata": {},
   "outputs": [],
   "source": [
    "mult(3,4)"
   ]
  },
  {
   "cell_type": "markdown",
   "id": "d5acdd21",
   "metadata": {},
   "source": [
    "# 5. How many global scopes are there in a Python program? How many local scopes?\n",
    "\n",
    "ans:-\n",
    "\n",
    "    Python programs have one global scope, which represents the outermost level of the program. It encompasses the entire program and is accessible from anywhere within the program. In addition to the global scope, local scopes are created whenever a function or a code block (such as a loop or conditional statement) is executed. Each function or code block has its own local scope, which is separate from the global scope. Local scopes are temporary and exist only during the execution of the corresponding function or code block.\n",
    "    In summary, there is one global scope and multiple local scopes in a Python program."
   ]
  },
  {
   "cell_type": "markdown",
   "id": "be50720e",
   "metadata": {},
   "source": [
    "# 6. What happens to variables in a local scope when the function call returns?\n",
    "\n",
    "ans:-\n",
    "\n",
    "    The concept of a return value in programming refers to the value that a function can send back to the caller. When a function is executed and reaches a return statement, it can optionally specify a value to be returned. This return value provides a way for the function to communicate information or a result back to the code that called it.\n",
    "\n",
    "    A return value can be of any data type, including integers, strings, booleans, lists, or even more complex data structures. It allows functions to perform a computation or operation and then pass the result back to the caller, enabling the caller to use or further process that result as needed.\n",
    "\n",
    "    Yes, it is possible to have a return value in an expression. In Python, you can assign the return value of a function directly to a variable or use it as part of an expression. Here's an example:"
   ]
  },
  {
   "cell_type": "code",
   "execution_count": 1,
   "id": "25ca021e",
   "metadata": {},
   "outputs": [
    {
     "name": "stdout",
     "output_type": "stream",
     "text": [
      "8\n",
      "7\n"
     ]
    }
   ],
   "source": [
    "def add_numbers(a, b):\n",
    "    return a + b\n",
    "\n",
    "result = add_numbers(3, 5)\n",
    "print(result)  # Output: 8\n",
    "\n",
    "total = add_numbers(2, 4) + 1\n",
    "print(total)  # Output: 7"
   ]
  },
  {
   "cell_type": "markdown",
   "id": "a239ab0a",
   "metadata": {},
   "source": [
    "# 8. If a function does not have a return statement, what is the return value of a call to that function?\n",
    "\n",
    "ans:-\n",
    "\n",
    "    If a function does not have a return statement, or if the return statement is not reached during the execution of the function, the function call will still produce a return value. In Python, the return value in such cases is None.\n",
    "\n",
    "    None is a special object in Python that represents the absence of a value. It is often used to indicate that a function has no specific result to return or that a variable doesn't have a value assigned.\n",
    "\n",
    "Here's an example:"
   ]
  },
  {
   "cell_type": "code",
   "execution_count": 2,
   "id": "b0b80e6b",
   "metadata": {},
   "outputs": [
    {
     "name": "stdout",
     "output_type": "stream",
     "text": [
      "Hello, sachin!\n",
      "None\n"
     ]
    }
   ],
   "source": [
    "def greet(name):\n",
    "    print(\"Hello, \" + name + \"!\")\n",
    "\n",
    "result = greet(\"sachin\")\n",
    "print(result)  # Output: None"
   ]
  },
  {
   "cell_type": "markdown",
   "id": "4e1fa875",
   "metadata": {},
   "source": [
    "# 9.How do you make a function variable refer to the global variable?\n",
    "\n",
    "ans:-\n",
    "\n",
    "    To make a function variable refer to the global variable of the same name, we can use the global keyword in Python. The global keyword allows you to indicate that a variable inside a function should refer to the same variable in the global scope."
   ]
  },
  {
   "cell_type": "markdown",
   "id": "f154f2ba",
   "metadata": {},
   "source": [
    "# 10. What is the data type of None?\n",
    "\n",
    "ans:-\n",
    "\n",
    "    The data type of 'None' is 'NoneType'"
   ]
  },
  {
   "cell_type": "code",
   "execution_count": 3,
   "id": "df1cdcaf",
   "metadata": {},
   "outputs": [
    {
     "name": "stdout",
     "output_type": "stream",
     "text": [
      "<class 'NoneType'>\n"
     ]
    }
   ],
   "source": [
    "print(type(None))"
   ]
  },
  {
   "cell_type": "markdown",
   "id": "e10d407b",
   "metadata": {},
   "source": [
    "# 11. What does the sentence import areallyourpetsnamederic do?\n",
    "\n",
    "ans:-\n",
    "\n",
    "    That import statement imports a module named areallyourpetsnamederic. (But a module of this name doesnt exists in Python)"
   ]
  },
  {
   "cell_type": "markdown",
   "id": "fcf99975",
   "metadata": {},
   "source": [
    "# 12. If you had a bacon() feature in a spam module, what would you call it after importing spam?\n",
    "\n",
    "ans:-\n",
    "\n",
    "    import spam\n",
    "\n",
    "    spam.bacon()"
   ]
  },
  {
   "cell_type": "markdown",
   "id": "4befee87",
   "metadata": {},
   "source": [
    "# 13. What can you do to save a programme from crashing if it encounters an error?\n",
    "\n",
    "ans:-\n",
    "\n",
    "    To save a program from crashing if it encounters an error, you can use error handling techniques such as try-except blocks to catch and handle exceptions. By encapsulating potentially problematic code within a try block and providing appropriate error handling in the except block, we can prevent the program from abruptly terminating and gracefully manage errors."
   ]
  },
  {
   "cell_type": "markdown",
   "id": "e03f4810",
   "metadata": {},
   "source": [
    "# 14. What is the purpose of the try clause? What is the purpose of the except clause?\n",
    "\n",
    "ans:-\n",
    "\n",
    "    The purpose of the try clause in Python is to enclose a block of code where exceptions might occur. It allows you to monitor and execute the code normally. If an exception is raised within the try block, the program flow is transferred to the except clause.\n",
    "\n",
    "    The purpose of the except clause is to define the actions to be taken when a specific exception occurs. It specifies the exception type to handle, and if an exception of that type is raised in the try block, the corresponding except block is executed to handle the exception. The except clause provides an opportunity to catch and handle exceptions, preventing program crashes and allowing for error-specific actions."
   ]
  }
 ],
 "metadata": {
  "kernelspec": {
   "display_name": "Python 3 (ipykernel)",
   "language": "python",
   "name": "python3"
  },
  "language_info": {
   "codemirror_mode": {
    "name": "ipython",
    "version": 3
   },
   "file_extension": ".py",
   "mimetype": "text/x-python",
   "name": "python",
   "nbconvert_exporter": "python",
   "pygments_lexer": "ipython3",
   "version": "3.10.9"
  }
 },
 "nbformat": 4,
 "nbformat_minor": 5
}
