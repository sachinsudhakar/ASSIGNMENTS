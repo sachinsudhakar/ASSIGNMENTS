{
 "cells": [
  {
   "cell_type": "markdown",
   "id": "ff16f111",
   "metadata": {},
   "source": [
    "# 1. In Python, what is the difference between a built-in function and a user-defined function? Provide an example of each.\n",
    "\n",
    "ans:-\n",
    "\n",
    "# Built-in functions\n",
    "They are predefined functions which can be used anytime.\n",
    "\n",
    "Eg: len( ), type( ), etc\n",
    "\n",
    "# User defined functions\n",
    "They are functions that are defined by the programmer.\n",
    "\n",
    "Eg: def perimeter (b,l): p= 2 *(l+b) print(p)\n"
   ]
  },
  {
   "cell_type": "markdown",
   "id": "fe5e21e2",
   "metadata": {},
   "source": [
    "# 2. How can you pass arguments to a function in Python? Explain the difference between positional arguments and keyword arguments.\n",
    "\n",
    "ans:-\n",
    "\n",
    "A positional argument is a name that is not followed by an equal sign (=) and default value. \n",
    "A keyword argument is followed by an equal sign and an expression that gives its default value."
   ]
  },
  {
   "cell_type": "markdown",
   "id": "11da4df7",
   "metadata": {},
   "source": [
    "# 3. What is the purpose of the return statement in a function? Can a function have multiple return statements? Explain with an example.\n",
    "\n",
    "ans:-\n",
    "\n",
    "A return statement ends the processing of the current function and returns control to the caller of the function. A function can have more than one return statement, but only ever run one based on a condition."
   ]
  },
  {
   "cell_type": "code",
   "execution_count": 1,
   "id": "ea2696b7",
   "metadata": {},
   "outputs": [
    {
     "name": "stdout",
     "output_type": "stream",
     "text": [
      "enter the  number1: 10\n",
      "enter the number2: 5\n",
      "the sum of numbers are: 15.0\n",
      "the sum of numbers are: 5.0\n",
      "the sum of numbers are: 50.0\n"
     ]
    }
   ],
   "source": [
    "def ccal():\n",
    "    n1=float(input(\"enter the  number1: \"))\n",
    "    n2=float(input(\"enter the number2: \"))\n",
    "    \n",
    "    #add\n",
    "    sum=n1+n2\n",
    "    dif=n1-n2\n",
    "    mul=n1*n2\n",
    "    \n",
    "    return {\n",
    "        \"re_sum\":sum,\n",
    "        \"re_dif\":dif,\n",
    "        \"re_mul\":mul\n",
    "    }\n",
    "results=ccal()\n",
    "print(\"the sum of numbers are:\",results[\"re_sum\"])\n",
    "print(\"the sum of numbers are:\",results[\"re_dif\"])\n",
    "print(\"the sum of numbers are:\",results[\"re_mul\"])"
   ]
  },
  {
   "cell_type": "markdown",
   "id": "15f2096b",
   "metadata": {},
   "source": [
    "# 4.What are lambda functions in Python? How are they different from regular functions? Provide an example where a lambda function can be useful.\n",
    "\n",
    "ans:-\n",
    "\n",
    "A lambda function is an anonymous function (i.e., defined without a name) that can take any number of arguments but, unlike normal functions, evaluates and returns only one expression.\n",
    "\n",
    "unlike a normal function, we don't surround the parameters of a lambda function with parentheses"
   ]
  },
  {
   "cell_type": "code",
   "execution_count": 2,
   "id": "d22e782a",
   "metadata": {},
   "outputs": [
    {
     "name": "stdout",
     "output_type": "stream",
     "text": [
      "14\n"
     ]
    }
   ],
   "source": [
    "#only expression are allowed\n",
    "add=lambda x,y:x+y\n",
    "print(add(6,8))"
   ]
  },
  {
   "cell_type": "markdown",
   "id": "11e2ae88",
   "metadata": {},
   "source": [
    "# 5. How does the concept of \"scope\" apply to functions in Python? Explain the difference between local scope and global scope.\n",
    "\n",
    "ans:-\n",
    "\n",
    "The scope of global variables is the entire program whereas the scope of local variable is limited to the function where it is defined.\n",
    "\n",
    "# global scope:\n",
    "The scope of identifier that is declared outside of all namespace,function,and all extends classes from the point\n",
    "of declaration to the entire file containing the programing code\n",
    "# local scope:\n",
    " The scope of identifier that is declared inside ,function,and all extends classes from the point\n",
    "of declaration to the end of the block"
   ]
  },
  {
   "cell_type": "markdown",
   "id": "2b349303",
   "metadata": {},
   "source": [
    "# 6. How can you use the \"return\" statement in a Python function to return multiple values?\n",
    "\n",
    "ans:-"
   ]
  },
  {
   "cell_type": "code",
   "execution_count": 3,
   "id": "5c5b25a3",
   "metadata": {},
   "outputs": [
    {
     "name": "stdout",
     "output_type": "stream",
     "text": [
      "5 -1 6\n"
     ]
    }
   ],
   "source": [
    "def arth(x,y):\n",
    "    return x+y,x-y,x*y\n",
    "\n",
    "a,b,c=arth(2,3)\n",
    "print( a,b,c)"
   ]
  },
  {
   "cell_type": "markdown",
   "id": "8076b1e5",
   "metadata": {},
   "source": [
    "# 7. What is the difference between the \"pass by value\" and \"pass by reference\" concepts when it comes to function arguments in Python?\n",
    "\n",
    "ans:-\n",
    "\n",
    "# Call by value\n",
    "1.The parameter values are copied to function parameter and then two types of parameters are stored in the memory locations. When changes are made the functions are not reflected in the parameter of the caller.\n",
    "\n",
    "2.While calling the function we pass values and called as call by values.\n",
    "\n",
    "3.The changes are made to dummy variables in the called function that have no effect on the actual variable of the function."
   ]
  },
  {
   "cell_type": "code",
   "execution_count": 4,
   "id": "6947c391",
   "metadata": {},
   "outputs": [
    {
     "ename": "SyntaxError",
     "evalue": "Missing parentheses in call to 'print'. Did you mean print(...)? (1218096618.py, line 2)",
     "output_type": "error",
     "traceback": [
      "\u001b[1;36m  Cell \u001b[1;32mIn[4], line 2\u001b[1;36m\u001b[0m\n\u001b[1;33m    print str\u001b[0m\n\u001b[1;37m    ^\u001b[0m\n\u001b[1;31mSyntaxError\u001b[0m\u001b[1;31m:\u001b[0m Missing parentheses in call to 'print'. Did you mean print(...)?\n"
     ]
    }
   ],
   "source": [
    "def primtme (str):\n",
    "    print str\n",
    "return;\n",
    "print(“I’m first call to user defined function!”)\n",
    "print(“Again second call to same function”)\n",
    "\n",
    "#Output:-\n",
    "#I’m first call to user defined function!\n",
    "#Again second call to same function\n"
   ]
  },
  {
   "cell_type": "markdown",
   "id": "4291d765",
   "metadata": {},
   "source": [
    "# Call by reference\n",
    "1.The actual, as well as the formal parameters refer to the same location and if changes are made inside the functions the functions are reflected in the actual\n",
    "  parameter of the caller.\n",
    "    2. At the time of calling instead of passing the values we pass the address of the variables that means \n",
    "     the location of variables so called call by reference.\n",
    "    3.The address of variable in function while calling is copied into dummy variables of a function.\n",
    "    4.We can change the values of the actual variable through a function call.\n",
    "    5.The pointers are necessary to define and store the address of variables."
   ]
  },
  {
   "cell_type": "code",
   "execution_count": 5,
   "id": "fb7dfe7c",
   "metadata": {},
   "outputs": [
    {
     "ename": "SyntaxError",
     "evalue": "closing parenthesis ']' does not match opening parenthesis '(' (1922570946.py, line 2)",
     "output_type": "error",
     "traceback": [
      "\u001b[1;36m  Cell \u001b[1;32mIn[5], line 2\u001b[1;36m\u001b[0m\n\u001b[1;33m    mylist.append(1, 2, 3, 4]);\u001b[0m\n\u001b[1;37m                            ^\u001b[0m\n\u001b[1;31mSyntaxError\u001b[0m\u001b[1;31m:\u001b[0m closing parenthesis ']' does not match opening parenthesis '('\n"
     ]
    }
   ],
   "source": [
    "def changeme(mylist):\n",
    "mylist.append(1, 2, 3, 4]);\n",
    "print”values inside the function:” mylist\n",
    "return\n",
    "mylist= [10, 20, 30];\n",
    "changeme (mylist);\n",
    "print”values outside the function:” mylist\n",
    "    \n",
    "    \n",
    "Output:-\n",
    "values inside the function: [10, 20, 30, [1, 2, 3, 4]]\n",
    "values outside the function: [10, 20, 30, [1, 2, 3, 4]]"
   ]
  },
  {
   "cell_type": "markdown",
   "id": "9957b4fa",
   "metadata": {},
   "source": [
    "# 8. Create a function that can intake integer or decimal value and do following operations:\n",
    "\n",
    "# a. Logarithmic function (log x)\n",
    "\n",
    "# b. Exponential function (exp(x))\n",
    "\n",
    "# c. Power function with base 2 (2powerof x)\n",
    "\n",
    "# d. Square root\n",
    "\n",
    "ans:-\n",
    "\n",
    "\n",
    "# a. Logarithmic function (log x)"
   ]
  },
  {
   "cell_type": "code",
   "execution_count": 6,
   "id": "bea59f09",
   "metadata": {},
   "outputs": [
    {
     "name": "stdout",
     "output_type": "stream",
     "text": [
      "The value of log 2 with base 3 is : 0.6309297535714574\n"
     ]
    }
   ],
   "source": [
    "import math\n",
    "print (\"The value of log 2 with base 3 is : \", end=\"\")\n",
    "print (math.log(2,3))"
   ]
  },
  {
   "cell_type": "markdown",
   "id": "1e59835a",
   "metadata": {},
   "source": [
    "# b. Exponential function (exp(x))"
   ]
  },
  {
   "cell_type": "code",
   "execution_count": 7,
   "id": "df5fc225",
   "metadata": {},
   "outputs": [
    {
     "name": "stdout",
     "output_type": "stream",
     "text": [
      "The value of log 2 with base 3 is : 20.085536923187668\n"
     ]
    }
   ],
   "source": [
    "import math\n",
    "print (\"The value of log 2 with base 3 is : \", end=\"\")\n",
    "print (math.exp(3))"
   ]
  },
  {
   "cell_type": "markdown",
   "id": "a188ef10",
   "metadata": {},
   "source": [
    "# c. Power function with base 2 (2powerof x)"
   ]
  },
  {
   "cell_type": "code",
   "execution_count": 8,
   "id": "cac9c34f",
   "metadata": {},
   "outputs": [
    {
     "name": "stdout",
     "output_type": "stream",
     "text": [
      "The value of 3 to the power 2 is : 9.0\n"
     ]
    }
   ],
   "source": [
    "import math\n",
    " \n",
    "# returning the value of 3**2\n",
    "print (\"The value of 3 to the power 2 is : \", end=\"\")\n",
    "print (math.pow(3,2))"
   ]
  },
  {
   "cell_type": "markdown",
   "id": "fff9d8c2",
   "metadata": {},
   "source": [
    "# d. Square root"
   ]
  },
  {
   "cell_type": "code",
   "execution_count": 9,
   "id": "9b336450",
   "metadata": {},
   "outputs": [
    {
     "name": "stdout",
     "output_type": "stream",
     "text": [
      "The value of square root of 25 : 5.0\n"
     ]
    }
   ],
   "source": [
    "import math\n",
    "print (\"The value of square root of 25 : \", end=\"\")\n",
    "print (math.sqrt(25))"
   ]
  },
  {
   "cell_type": "markdown",
   "id": "c5b1387b",
   "metadata": {},
   "source": [
    "# 9. Create a function that takes a full name as an argument and returns first name and last name.\n",
    "\n",
    "ans:-"
   ]
  },
  {
   "cell_type": "code",
   "execution_count": 11,
   "id": "594d5e6f",
   "metadata": {},
   "outputs": [
    {
     "name": "stdout",
     "output_type": "stream",
     "text": [
      "First Name: sudhakaraswamy\n",
      "Last Name: sachin\n"
     ]
    }
   ],
   "source": [
    "def display_info(first_name, last_name):\n",
    "    print('First Name:', first_name)\n",
    "    print('Last Name:', last_name)\n",
    "\n",
    "display_info(last_name = 'sachin', first_name = 'sudhakaraswamy')"
   ]
  },
  {
   "cell_type": "code",
   "execution_count": null,
   "id": "a082ea96",
   "metadata": {},
   "outputs": [],
   "source": []
  }
 ],
 "metadata": {
  "kernelspec": {
   "display_name": "Python 3 (ipykernel)",
   "language": "python",
   "name": "python3"
  },
  "language_info": {
   "codemirror_mode": {
    "name": "ipython",
    "version": 3
   },
   "file_extension": ".py",
   "mimetype": "text/x-python",
   "name": "python",
   "nbconvert_exporter": "python",
   "pygments_lexer": "ipython3",
   "version": "3.10.9"
  }
 },
 "nbformat": 4,
 "nbformat_minor": 5
}
