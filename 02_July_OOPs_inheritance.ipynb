{
 "cells": [
  {
   "cell_type": "markdown",
   "id": "8c4d8ca9",
   "metadata": {},
   "source": [
    "# 1. Explain what inheritance is in object-oriented programming and why it is used.\n",
    "\n",
    "ans:-\n",
    "\n",
    "Inheritance allows programmers to create classes that are built upon existing classes, to specify a new implementation while maintaining the same behaviors (realizing an interface), to reuse code and to independently extend original software via public classes and interfaces."
   ]
  },
  {
   "cell_type": "markdown",
   "id": "adf7619b",
   "metadata": {},
   "source": [
    "# 2. Discuss the concept of single inheritance and multiple inheritance, highlighting their differences and advantages.\n",
    "\n",
    "ans:-\n",
    "\n",
    "In single inheritance, we do have only one base class, which is inherited by only one derived class. In multiple inheritance we have more than two base class which are combinely inherited by only one derived class.\n",
    "\n",
    "1. Single inheritance is one derived class having a single base class. On the contrary, multiple inheritance has two or more than two base classes, but single derived class.\n",
    "\n",
    "2. Multiple inheritance is quite confusing as here a single derived class inherit two or more base class. If the base classes have an attribute or function with the same name then for a derived class, it becomes difficult to identify which base class’s attribute or function it has to derive.\n",
    "\n",
    "3. Overhead issues are lesser in case of single inheritance. However, in the case of multiple inheritance the object construction or destruction invokes the constructors and destructor of the parent class in the class hierarchy, which increases the overhead.\n",
    "\n",
    "4. Single inheritance is more towards specialization. Conversely, multiple inheritance is more towards generalization.\n",
    "\n",
    "Due to less overhead in single inheritance it has less runtime than multiple inheritance."
   ]
  },
  {
   "cell_type": "markdown",
   "id": "1d7f93ff",
   "metadata": {},
   "source": [
    "# 3. Explain the terms \"base class\" and \"derived class\" in the context of inheritance.\n",
    "\n",
    "ans:-\n",
    "\n",
    "Base Class: In terms of inheritance, base class is the top level class which is not inherited from no other classes other than object class itself\n",
    "\n",
    "Derived Class: In terms of inheritance, derived class is the class which inherits attributes and methods from one or multiple base classes"
   ]
  },
  {
   "cell_type": "markdown",
   "id": "094a5312",
   "metadata": {},
   "source": [
    "# 4. What is the significance of the \"protected\" access modifier in inheritance? How does it differ from \"private\" and \"public\" modifiers?\n",
    "\n",
    "ans:-\n",
    "\n",
    "It is a keyword. This access modifier is used to access the methods or data members of a class within the same package as well as outside the package but only through inheritance\n",
    "\n",
    "Private members cannot be accessed from the child class of outside package. Protected members can be accessed from the child class of the outside package, but we should use child reference only. Package members cannot be accessed from the child class of outside package."
   ]
  },
  {
   "cell_type": "markdown",
   "id": "dd4220a3",
   "metadata": {},
   "source": [
    "# 5. What is the purpose of the \"super\" keyword in inheritance? Provide an example.\n",
    "\n",
    "ans:-\n",
    "\n",
    "super() keyword is used in derived class to refer to the base class methods.\n",
    "\n",
    "It gives you access to methods in a superclass from the derived class that inherits from it"
   ]
  },
  {
   "cell_type": "code",
   "execution_count": 1,
   "id": "bf2ffc9c",
   "metadata": {},
   "outputs": [
    {
     "name": "stdout",
     "output_type": "stream",
     "text": [
      "Area: 169\n",
      "Perimeter: 52\n",
      "Area: 216\n",
      "Perimeter: 60\n"
     ]
    }
   ],
   "source": [
    "class Rectangle:\n",
    "    def __init__(self, length, width):\n",
    "        self.length = length\n",
    "        self.width = width\n",
    "\n",
    "    def area(self):\n",
    "        print(f\"Area: {self.length * self.width}\")\n",
    "\n",
    "    def perimeter(self):\n",
    "        print(f\"Perimeter: {2 * self.length + 2 * self.width}\")\n",
    "\n",
    "# Here we declare that the Square class inherits from the Rectangle class\n",
    "class Square(Rectangle):\n",
    "    def __init__(self, length):\n",
    "        super().__init__(length, length)\n",
    "        \n",
    "\n",
    "sq = Square(13)\n",
    "sq.area()\n",
    "sq.perimeter()\n",
    "\n",
    "rc = Rectangle(12, 18)\n",
    "rc.area()\n",
    "rc.perimeter()"
   ]
  },
  {
   "cell_type": "markdown",
   "id": "225b2d34",
   "metadata": {},
   "source": [
    "# 6. Create a base class called \"Vehicle\" with attributes like \"make\", \"model\", and \"year\".Then, create a derived class called \"Car\" that inherits from \"Vehicle\" and adds an attribute called \"fuel_type\". Implement appropriate methods in both classes.\n",
    "\n",
    "ans:-\n",
    "\n"
   ]
  },
  {
   "cell_type": "code",
   "execution_count": 1,
   "id": "eb3588aa",
   "metadata": {},
   "outputs": [
    {
     "name": "stdout",
     "output_type": "stream",
     "text": [
      "M&M XUV300 got started\n",
      "Fuel Type is Diesel\n"
     ]
    }
   ],
   "source": [
    "class Vehicle:\n",
    "    def __init__(self, make: str, model: str, year: str) -> None:\n",
    "        self.make = make\n",
    "        self.model = model\n",
    "        self.year = year\n",
    "    \n",
    "    def start_engine(self):\n",
    "        print(f\"{self.make} {self.model} got started\")\n",
    "        \n",
    "\n",
    "class Car(Vehicle):\n",
    "    def __init__(self, make: str, model: str, year: str, fuel_type: str) -> None:\n",
    "        super().__init__(make, model, year)\n",
    "        self.fuel_type = fuel_type\n",
    "        \n",
    "    def start_engine(self):\n",
    "        super().start_engine()\n",
    "        print(f\"Fuel Type is {self.fuel_type}\")\n",
    "\n",
    "\n",
    "my_car = Car(make=\"M&M\", model=\"XUV300\", year=\"2021\", fuel_type=\"Diesel\")\n",
    "my_car.start_engine()"
   ]
  },
  {
   "cell_type": "markdown",
   "id": "19d9a252",
   "metadata": {},
   "source": [
    "# 7. Create a base class called \"Employee\" with attributes like \"name\" and \"salary.\" Derive two classes, \"Manager\" and \"Developer,\" from \"Employee.\" Add an additional attribute called \"department\" for the \"Manager\" class and \"programming_language\" for the \"Developer\" class.\n",
    "\n",
    "ans:-"
   ]
  },
  {
   "cell_type": "code",
   "execution_count": 2,
   "id": "68f5b7b3",
   "metadata": {},
   "outputs": [
    {
     "name": "stdout",
     "output_type": "stream",
     "text": [
      "the profile of employee name as latha and salary would be 12200\n"
     ]
    }
   ],
   "source": [
    "#parent class\n",
    "class Employee:\n",
    "    def __init__(self,name,salary):\n",
    "        self.name=name\n",
    "        self.salary=salary\n",
    "        \n",
    "    def display_emp_profile(self):\n",
    "        print(f\"the profile of employee name as {self.name} and salary would be {self.salary}\")\n",
    "\n",
    "E=Employee(\"latha\",12200)\n",
    "E.display_emp_profile()"
   ]
  },
  {
   "cell_type": "code",
   "execution_count": 3,
   "id": "72689618",
   "metadata": {},
   "outputs": [
    {
     "name": "stdout",
     "output_type": "stream",
     "text": [
      "the profile of employee name as latha and salary would be 2324\n",
      "the dept of emp is AI\n"
     ]
    }
   ],
   "source": [
    "# child classes\n",
    "class Manager(Employee):\n",
    "    def __init__(self,name,salary,dept):\n",
    "        super().__init__(name,salary)\n",
    "        self.dept=dept\n",
    "        \n",
    "    def display_emp_profile(self):\n",
    "        super().display_emp_profile()\n",
    "        print(f\"the dept of emp is {self.dept}\")\n",
    "\n",
    "m=Manager(\"latha\",2324,\"AI\")\n",
    "m.display_emp_profile()"
   ]
  },
  {
   "cell_type": "code",
   "execution_count": 5,
   "id": "c3f3b6f8",
   "metadata": {},
   "outputs": [
    {
     "name": "stdout",
     "output_type": "stream",
     "text": [
      "the profile of employee name as latha and salary would be 2332\n",
      "the developer choosen programing_language python\n"
     ]
    }
   ],
   "source": [
    "class Developer(Employee):\n",
    "    def __init__(self,name,salary,programing_language):\n",
    "        super().__init__(name,salary)\n",
    "        self.programing_language=programing_language\n",
    "        \n",
    "    def display_emp_profile(self):\n",
    "        super().display_emp_profile()\n",
    "        print(f\"the developer choosen programing_language {self.programing_language}\")\n",
    "\n",
    "d=Developer(\"latha\",2332,\"python\")\n",
    "d.display_emp_profile()"
   ]
  },
  {
   "cell_type": "markdown",
   "id": "8dc80d4c",
   "metadata": {},
   "source": [
    "# 8. Design a base class called \"Shape\" with attributes like \"colour\" and \"border_width.\"Create derived classes, \"Rectangle\" and \"Circle,\" that inherit from \"Shape\" and add specific attributes like \"length\" and \"width\" for the \"Rectangle\" class and \"radius\" for the \"Circle\" class.\n",
    "\n",
    "ans:-"
   ]
  },
  {
   "cell_type": "code",
   "execution_count": 9,
   "id": "97e6ca26",
   "metadata": {},
   "outputs": [
    {
     "name": "stdout",
     "output_type": "stream",
     "text": [
      "the colour of shape pink and border withdth would be 23\n"
     ]
    }
   ],
   "source": [
    "class Shape:\n",
    "    def __init__(self,colour,border_width):\n",
    "        self.colour=colour\n",
    "        self.border_width=border_width\n",
    "        \n",
    "    def display_shape(self):\n",
    "        print(f\"the colour of shape {self.colour} and border withdth would be {self.border_width}\")\n",
    "s=Shape(\"pink\",23)\n",
    "s.display_shape()"
   ]
  },
  {
   "cell_type": "code",
   "execution_count": 10,
   "id": "a9fdef49",
   "metadata": {},
   "outputs": [
    {
     "name": "stdout",
     "output_type": "stream",
     "text": [
      "the colour of shape white and border withdth would be 2\n",
      "the colour of shape is rectangle white and border withdth would be 2\n"
     ]
    }
   ],
   "source": [
    "class Rectangle(Shape):\n",
    "    \n",
    "    def __init__(self,colour,border_width,length,width):\n",
    "        super().__init__(colour,border_width)\n",
    "        self.length=length\n",
    "        self.width=width\n",
    "        \n",
    "    def display_rectangle(self):\n",
    "        super().display_shape()\n",
    "        print(f\"the colour of shape is rectangle {self.colour} and border withdth would be {self.border_width}\")\n",
    "                \n",
    "        \n",
    "r=Rectangle(\"white\",2,23,56)\n",
    "r.display_rectangle()\n"
   ]
  },
  {
   "cell_type": "code",
   "execution_count": 11,
   "id": "4c0c0888",
   "metadata": {},
   "outputs": [
    {
     "name": "stdout",
     "output_type": "stream",
     "text": [
      "the colour of shape white and border withdth would be 2\n",
      "the colour of shape is circle white and radius  5\n"
     ]
    }
   ],
   "source": [
    "class Circle(Shape):\n",
    "    \n",
    "    def __init__(self,colour,border_width,radius):\n",
    "        super().__init__(colour,border_width)\n",
    "        self.radius=radius\n",
    "      \n",
    "        \n",
    "    def display_circle(self):\n",
    "        super().display_shape()\n",
    "        print(f\"the colour of shape is circle {self.colour} and radius  {self.radius}\")\n",
    "                \n",
    "        \n",
    "r=Circle(\"white\",2,5)\n",
    "r.display_circle()"
   ]
  },
  {
   "cell_type": "markdown",
   "id": "049a6903",
   "metadata": {},
   "source": [
    "# 9. Create a base class called \"Device\" with attributes like \"brand\" and \"model.\" Derive two classes, \"Phone\" and \"Tablet,\" from \"Device.\" Add specific attributes like \"screen_size\" for the \"Phone\" class and \"battery_capacity\" for the \"Tablet\" class.\n",
    "\n",
    "ans:-"
   ]
  },
  {
   "cell_type": "code",
   "execution_count": 6,
   "id": "54bb5131",
   "metadata": {},
   "outputs": [
    {
     "name": "stdout",
     "output_type": "stream",
     "text": [
      "the device having brand and model\n"
     ]
    }
   ],
   "source": [
    "class Device:\n",
    "    def __init__(self,brand, model):\n",
    "        self.brand=brand\n",
    "        self.model=model\n",
    "        \n",
    "    def Device_info(self):\n",
    "        print(\"the device having brand and model\")\n",
    "        \n",
    "d=Device(\"v12\",\"vivo\")\n",
    "d.Device_info()"
   ]
  },
  {
   "cell_type": "code",
   "execution_count": 7,
   "id": "ae459c2a",
   "metadata": {},
   "outputs": [
    {
     "name": "stdout",
     "output_type": "stream",
     "text": [
      "the device having brand and model\n",
      "the phone model vivo and v12 and size would be 12\n"
     ]
    }
   ],
   "source": [
    "class Phone(Device):\n",
    "    \n",
    "    def __init__(self,brand,model,screen_size):\n",
    "        super().__init__(brand,model)\n",
    "        self.screen_size=screen_size\n",
    "        \n",
    "    def Phone_info(self):\n",
    "        super().Device_info()\n",
    "        print(f\"the phone model {self.model} and {self.brand} and size would be {self.screen_size}\")\n",
    "              \n",
    "p=Phone(\"v12\",\"vivo\",12)\n",
    "p.Phone_info()              "
   ]
  },
  {
   "cell_type": "code",
   "execution_count": 8,
   "id": "9b0f8eb2",
   "metadata": {},
   "outputs": [
    {
     "name": "stdout",
     "output_type": "stream",
     "text": [
      "the device having brand and model\n",
      "the Tablet model iphone and i12 and battery_capacity would be 100\n"
     ]
    }
   ],
   "source": [
    "class Tablet(Device):\n",
    "    \n",
    "    def __init__(self,brand,model,battery_capacity):\n",
    "        super().__init__(brand,model)\n",
    "        self.battery_capacity=battery_capacity\n",
    "        \n",
    "    def Tablet_info(self):\n",
    "        super().Device_info()\n",
    "        print(f\"the Tablet model {self.model} and {self.brand} and battery_capacity would be {self.battery_capacity}\")\n",
    "              \n",
    "t=Tablet(\"i12\",\"iphone\",100)\n",
    "t.Tablet_info()      "
   ]
  },
  {
   "cell_type": "markdown",
   "id": "3d052944",
   "metadata": {},
   "source": [
    "# 10. Create a base class called \"BankAccount\" with attributes like \"account_number\" and \"balance.\" Derive two classes, \"SavingsAccount\" and \"CheckingAccount,\" from \"BankAccount.\" Add specific methods like \"calculate_interest\" for the \"SavingsAccount\" class and \"deduct_fees\" for the \"CheckingAccount\" class.\n",
    "\n",
    "ans:-"
   ]
  },
  {
   "cell_type": "code",
   "execution_count": 12,
   "id": "794cf7ae",
   "metadata": {},
   "outputs": [
    {
     "name": "stdout",
     "output_type": "stream",
     "text": [
      "Interest for the Account: 123456 is getting calculated on the Balance: 19000\n",
      "Fees will get deducted for the Account: 987654 from the Outstanding Balance: 80000\n"
     ]
    }
   ],
   "source": [
    "class BankAccount:\n",
    "    def __init__(self, account_number: str, balance: float) -> None:\n",
    "        self.account_number = account_number\n",
    "        self.balance = balance\n",
    "        \n",
    "class SavingsAccount(BankAccount):\n",
    "    def __init__(self, account_number: str, balance: float) -> None:\n",
    "        super().__init__(account_number, balance)\n",
    "        \n",
    "    def calculate_interest(self):\n",
    "        print(f\"Interest for the Account: {self.account_number} is getting calculated on the Balance: {self.balance}\")\n",
    "        \n",
    "class CheckingAccount(BankAccount):\n",
    "    def __init__(self, account_number: str, balance: float) -> None:\n",
    "        super().__init__(account_number, balance)\n",
    "    \n",
    "    def deduct_fees(self):\n",
    "        print(f\"Fees will get deducted for the Account: {self.account_number} from the Outstanding Balance: {self.balance}\")\n",
    "        \n",
    "    \n",
    "savings = SavingsAccount('123456', 19000)\n",
    "checking = CheckingAccount(\"987654\", 80000)\n",
    "\n",
    "savings.calculate_interest()\n",
    "checking.deduct_fees()"
   ]
  },
  {
   "cell_type": "code",
   "execution_count": null,
   "id": "048ddee5",
   "metadata": {},
   "outputs": [],
   "source": []
  }
 ],
 "metadata": {
  "kernelspec": {
   "display_name": "Python 3 (ipykernel)",
   "language": "python",
   "name": "python3"
  },
  "language_info": {
   "codemirror_mode": {
    "name": "ipython",
    "version": 3
   },
   "file_extension": ".py",
   "mimetype": "text/x-python",
   "name": "python",
   "nbconvert_exporter": "python",
   "pygments_lexer": "ipython3",
   "version": "3.10.9"
  }
 },
 "nbformat": 4,
 "nbformat_minor": 5
}
