{
 "cells": [
  {
   "cell_type": "markdown",
   "id": "2408e5a2",
   "metadata": {},
   "source": [
    "# 1.What are the two values of the Boolean data type? How do you write them?\n",
    "\n",
    "ans:-\n",
    " 1. The two values of the Boolean data type are True and False\n",
    " 2. The capitalization is important, as Python treats them as keywords.\n",
    " 3. Boolean values are commonly used for logical operations, comparisons, and conditional statements in programming to              represent the truth or falsity of a condition."
   ]
  },
  {
   "cell_type": "markdown",
   "id": "57ba1011",
   "metadata": {},
   "source": [
    "# 2. What are the three different types of Boolean operators?\n",
    "\n",
    "ans:-\n",
    " The three different types of Boolean operators are:\n",
    "\n",
    "1. AND: The and operator returns True if both operands are True, and False otherwise. It represents the logical conjunction.\n",
    "\n",
    "2. OR: The or operator returns True if at least one of the operands is True, and False otherwise. It represents the logical      disjunction.\n",
    "\n",
    "3. NOT: The not operator returns the negation of the operand. It reverses the Boolean value, returning True if the operand is False, and False if the operand is True. It represents the logical negation.\n",
    "\n",
    "   These Boolean operators are used to combine or manipulate Boolean values and are fundamental for creating complex logical conditions and control flow in programming."
   ]
  },
  {
   "cell_type": "markdown",
   "id": "4e9e7046",
   "metadata": {},
   "source": [
    "# 3. Make a list of each Boolean operator's truth tables (i.e. every possible combination of Boolean values for the operator and what it evaluate ).\n",
    "\n",
    "ans:-"
   ]
  },
  {
   "cell_type": "code",
   "execution_count": 1,
   "id": "312f8186",
   "metadata": {},
   "outputs": [
    {
     "name": "stdout",
     "output_type": "stream",
     "text": [
      "False\n",
      "False\n",
      "False\n",
      "True\n"
     ]
    }
   ],
   "source": [
    "# Truth table for AND operator\n",
    "print(False and False)  \n",
    "print(False and True)  \n",
    "print(True and False)   \n",
    "print(True and True)"
   ]
  },
  {
   "cell_type": "code",
   "execution_count": 2,
   "id": "c33596dd",
   "metadata": {},
   "outputs": [
    {
     "name": "stdout",
     "output_type": "stream",
     "text": [
      "False\n",
      "True\n",
      "True\n",
      "True\n"
     ]
    }
   ],
   "source": [
    "# Truth table for OR operator\n",
    "print(False or False)  \n",
    "print(False or True)   \n",
    "print(True or False)   \n",
    "print(True or True) "
   ]
  },
  {
   "cell_type": "code",
   "execution_count": 3,
   "id": "e95f6e29",
   "metadata": {},
   "outputs": [
    {
     "name": "stdout",
     "output_type": "stream",
     "text": [
      "True\n",
      "False\n"
     ]
    }
   ],
   "source": [
    "# Truth table for NOT operator\n",
    "print(not False)  \n",
    "print(not True)"
   ]
  },
  {
   "cell_type": "markdown",
   "id": "7eddf775",
   "metadata": {},
   "source": [
    "# 4. What are the values of the following expressions?\n",
    "(5 > 4) and (3 == 5)\n",
    "not (5 > 4)\n",
    "(5 > 4) or (3 == 5)\n",
    "not ((5 > 4) or (3 == 5))\n",
    "(True and True) and (True == False)\n",
    "(not False) or (not True)\n",
    "\n",
    "ans:-"
   ]
  },
  {
   "cell_type": "code",
   "execution_count": 4,
   "id": "4d0cc1f9",
   "metadata": {},
   "outputs": [
    {
     "name": "stdout",
     "output_type": "stream",
     "text": [
      "True\n",
      "False\n",
      "True\n",
      "False\n",
      "False\n",
      "True\n"
     ]
    }
   ],
   "source": [
    "print(5 > 4) and (3 == 5)\n",
    "print(not (5 > 4))\n",
    "print((5 > 4) or (3 == 5))\n",
    "print(not ((5 > 4) or (3 == 5)))\n",
    "print((True and True) and (True == False))\n",
    "print((not False) or (not True))"
   ]
  },
  {
   "cell_type": "markdown",
   "id": "44ac3b22",
   "metadata": {},
   "source": [
    "# 5. What are the six comparison operators?\n",
    "\n",
    "ans:-\n",
    "\n",
    "\n",
    "    Python 6 Comparision Operators:\n",
    "    1.Equal ==\n",
    "    2.Not Equal !=\n",
    "    3.Greater than >\n",
    "    4.Lesser than. <\n",
    "    5.Greater than or Equal to >=\n",
    "    6.lesser than or Equal to. <="
   ]
  },
  {
   "cell_type": "markdown",
   "id": "0d4076c0",
   "metadata": {},
   "source": [
    "# 6. How do you tell the difference between the equal to and assignment operators?Describe a condition and when you would use one.\n",
    "\n",
    "ans:-"
   ]
  },
  {
   "cell_type": "code",
   "execution_count": 5,
   "id": "8b8d55d4",
   "metadata": {},
   "outputs": [
    {
     "name": "stdout",
     "output_type": "stream",
     "text": [
      "False\n",
      "c = 1\n"
     ]
    },
    {
     "data": {
      "text/plain": [
       "False"
      ]
     },
     "execution_count": 5,
     "metadata": {},
     "output_type": "execute_result"
    }
   ],
   "source": [
    "# Equal To Operator\n",
    "if(2==3):\n",
    "    print(\"True\")\n",
    "else:\n",
    "    print(\"False\")\n",
    "    \n",
    "#Assignment operator\n",
    "\n",
    "c=1 #here we have used assignment operator(=) to assign value of c which is 1\n",
    "print(\"c =\",c)\n",
    "False"
   ]
  },
  {
   "cell_type": "markdown",
   "id": "f793edf9",
   "metadata": {},
   "source": [
    "# 7. Identify the three blocks in this code:\n",
    "# spam = 0\n",
    "# if spam == 10:\n",
    "# print('eggs')\n",
    "# if spam > 5:\n",
    "# print('bacon')\n",
    "# else:\n",
    "# print('ham')\n",
    "# print('spam')\n",
    "# print('spam')\n",
    "\n",
    "ans:-"
   ]
  },
  {
   "cell_type": "code",
   "execution_count": 6,
   "id": "c5f6df3a",
   "metadata": {},
   "outputs": [
    {
     "name": "stdout",
     "output_type": "stream",
     "text": [
      "ham\n",
      "spam\n",
      "spam\n"
     ]
    }
   ],
   "source": [
    "spam = 0\n",
    "if spam == 10:\n",
    "    print('eggs')\n",
    "if spam > 5:\n",
    "    print('bacon')\n",
    "else:\n",
    "    print('ham')\n",
    "    print('spam')\n",
    "    print('spam')"
   ]
  },
  {
   "cell_type": "markdown",
   "id": "ebc3256c",
   "metadata": {},
   "source": [
    "# 8. Write code that prints Hello if 1 is stored in spam, prints Howdy if 2 is stored in spam, and prints Greetings! if anything else is stored in spam.\n",
    "\n",
    "ans:-"
   ]
  },
  {
   "cell_type": "code",
   "execution_count": 7,
   "id": "b4666971",
   "metadata": {},
   "outputs": [
    {
     "name": "stdout",
     "output_type": "stream",
     "text": [
      "Please Enter (1/ 2/ Your Choice) : 3\n",
      "Greetings!\n"
     ]
    }
   ],
   "source": [
    "#Taking choice from user through input function\n",
    "spam = input(\"Please Enter (1/ 2/ Your Choice) : \")\n",
    "\n",
    "#Conditional Statements : If the particular condition is satisfied that block of code will be printed\n",
    "if spam == '1':\n",
    "    print('Hello')\n",
    "    \n",
    "elif spam == '2':\n",
    "    print('Howdy')\n",
    "\n",
    "else:\n",
    "    print('Greetings!')"
   ]
  },
  {
   "cell_type": "markdown",
   "id": "48d6d329",
   "metadata": {},
   "source": [
    "# 9.If your programme is stuck in an endless loop, what keys you’ll press?\n",
    "\n",
    "ans:-\n",
    "    To stop the program, we will need to interrupt the loop manually by pressing CTRL + C"
   ]
  },
  {
   "cell_type": "markdown",
   "id": "64530110",
   "metadata": {},
   "source": [
    "# 10. How can you tell the difference between break and continue?\n",
    "\n",
    "ans:-\n",
    "    \n",
    "    \n",
    "    break is used to exit the loop entirely and continue with the next statement outside the loop, while \n",
    "    continue is used to skip the remaining code within the current iteration and move to the next iteration of the loop."
   ]
  },
  {
   "cell_type": "markdown",
   "id": "3fe5387b",
   "metadata": {},
   "source": [
    "# 11. In a for loop, what is the difference between range(10), range(0, 10), and range(0, 10, 1)?\n",
    "\n",
    "ans:-"
   ]
  },
  {
   "cell_type": "code",
   "execution_count": 8,
   "id": "a163133c",
   "metadata": {},
   "outputs": [
    {
     "name": "stdout",
     "output_type": "stream",
     "text": [
      "0123456789\n",
      " -------------------------------------------\n",
      "0123456789\n",
      "---------------------------------------------\n",
      "0123456789"
     ]
    }
   ],
   "source": [
    "for i in range(10):\n",
    "    print(i,end=\"\")\n",
    "print(\"\\n -------------------------------------------\") \n",
    "for i in range(0,10):\n",
    "    print(i,end='')\n",
    "print(\"\\n---------------------------------------------\")\n",
    "for i in range(0,10,1):\n",
    "    print(i,end='')"
   ]
  },
  {
   "cell_type": "markdown",
   "id": "070f076b",
   "metadata": {},
   "source": [
    "From the above output we can conclude that they all do the same thing.The range(10) call ranges from 0 up to (but not including) 10, range(0, 10) tells the loop to start at 0, and range(0, 10, 1) tells the loop to increase the variable by 1 on each iteration"
   ]
  },
  {
   "cell_type": "markdown",
   "id": "d7a41bbb",
   "metadata": {},
   "source": [
    "# 12. Write a short program that prints the numbers 1 to 10 using a for loop. Then write an equivalent program that prints the numbers 1 to 10 using a while loop.\n",
    "\n",
    "ans:-"
   ]
  },
  {
   "cell_type": "code",
   "execution_count": 9,
   "id": "1fbe189c",
   "metadata": {},
   "outputs": [
    {
     "name": "stdout",
     "output_type": "stream",
     "text": [
      "1 2 3 4 5 6 7 8 9 10 "
     ]
    }
   ],
   "source": [
    "for i in range(1,11):\n",
    "    print(i,end=' ')"
   ]
  },
  {
   "cell_type": "code",
   "execution_count": 10,
   "id": "189a7f54",
   "metadata": {},
   "outputs": [
    {
     "name": "stdout",
     "output_type": "stream",
     "text": [
      "1 2 3 4 5 6 7 8 9 10 "
     ]
    }
   ],
   "source": [
    "i=1\n",
    "while i<11:\n",
    "    print(i,end=' ')\n",
    "    i=i+1"
   ]
  },
  {
   "cell_type": "markdown",
   "id": "7bb6a5f4",
   "metadata": {},
   "source": [
    "# 13. If you had a function named bacon() inside a module named spam, how would you call it after importing spam?\n",
    "\n",
    "ans:-\n",
    "      spam.bacon()"
   ]
  }
 ],
 "metadata": {
  "kernelspec": {
   "display_name": "Python 3 (ipykernel)",
   "language": "python",
   "name": "python3"
  },
  "language_info": {
   "codemirror_mode": {
    "name": "ipython",
    "version": 3
   },
   "file_extension": ".py",
   "mimetype": "text/x-python",
   "name": "python",
   "nbconvert_exporter": "python",
   "pygments_lexer": "ipython3",
   "version": "3.10.9"
  }
 },
 "nbformat": 4,
 "nbformat_minor": 5
}
