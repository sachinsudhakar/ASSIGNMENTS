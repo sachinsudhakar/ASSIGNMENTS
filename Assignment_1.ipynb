{
 "cells": [
  {
   "cell_type": "markdown",
   "id": "c79e9af7",
   "metadata": {},
   "source": [
    "# 1. In the below elements which of them are values or an expression? eg:- values can be integer or string and expressions will be mathematical operators.\n",
    "* \n",
    "'hello'\n",
    "-87.8\n",
    "- \n",
    "/ \n",
    "\n",
    "\n",
    "6\n",
    "\n",
    "solution:-      \n",
    "              values are integer,string,float\n",
    "         \n",
    "         eg :-  \n",
    "        \n",
    "               'hello' is an string\n",
    "               \n",
    "               -87.8 is an float\n",
    "              \n",
    "                6 is an integer\n",
    "          \n",
    "        expressions are mathematical operators like add , sub , multi , divd\n",
    "        eg:-\n",
    "             + addition\n",
    "             \n",
    "             - subtraction\n",
    "             \n",
    "             * multification\n",
    "             \n",
    "             / division\n"
   ]
  },
  {
   "cell_type": "markdown",
   "id": "42b58686",
   "metadata": {},
   "source": [
    "# 2. What is the difference between string and variable?\n",
    "\n",
    "solution:-\n",
    "        \n",
    "        strings  :- strings are sequence of elements by using quotes\n",
    "        variable :- variable is a named location used to store data in a program. It is used to store and retrieve data                                during program execution."
   ]
  },
  {
   "cell_type": "markdown",
   "id": "27ecdb58",
   "metadata": {},
   "source": [
    "# 3. Describe three different data types.\n",
    "\n",
    "solution:-\n",
    "      \n",
    "     Integer (int): The integer data type represents whole numbers without any decimal places. It can store both positive                           and negative numbers.\n",
    "\n",
    "     Floating (float or double): The floating-point data type is used to represent numbers that have decimal places. It                                          can store both whole numbers and fractional numbers.\n",
    "\n",
    "     String (str): The string data type represents a sequence of characters. It is used to store and manipulate textual                            data."
   ]
  },
  {
   "cell_type": "markdown",
   "id": "a48c8ab6",
   "metadata": {},
   "source": [
    "# 4. What is an expression made up of? What do all expressions do?\n",
    "\n",
    "solution:-\n",
    "\n",
    "      An expression is a combination of values, variables, operators, and function calls that can be evaluated to produce a           result. It represents a computation or a calculation in a programming language\n",
    "\n",
    "      Expressions can have different purposes depending on their context within a program like calculation, comparison,               assignment and transformation. expresion are fundamental building blocks in programming languages that allow you to             perform computations, make decisions, and manipulate dT within a program. they are evaluated to produce a result that           can be futher utilized or sotred in variable for subsequent use. "
   ]
  },
  {
   "cell_type": "markdown",
   "id": "0da22339",
   "metadata": {},
   "source": [
    "# 5. This assignment statements, like spam = 10. What is the difference                       between anexpression and a statement?\n",
    "\n",
    "solution:- \n",
    "      \n",
    "      In spam=10, spam is a variable name the number 10 is assigned to that variable.\n",
    "      Expressions can be assigned or used as operands, while statements can only be declared\n",
    "\n",
    "       "
   ]
  },
  {
   "cell_type": "markdown",
   "id": "05828d8e",
   "metadata": {},
   "source": [
    "# 6. After running the following code, what does the variable bacon contain?            bacon = 22                                                                                                                      bacon + 1\n",
    "solution:-"
   ]
  },
  {
   "cell_type": "code",
   "execution_count": 1,
   "id": "8c88ed4e",
   "metadata": {},
   "outputs": [
    {
     "name": "stdout",
     "output_type": "stream",
     "text": [
      "22\n"
     ]
    }
   ],
   "source": [
    "bacon = 22\n",
    "bacon + 1\n",
    "print(bacon)"
   ]
  },
  {
   "cell_type": "markdown",
   "id": "e5aa1492",
   "metadata": {},
   "source": [
    "# 7. What should the values of the following two terms be?\n",
    "\n",
    "solution:-"
   ]
  },
  {
   "cell_type": "code",
   "execution_count": 2,
   "id": "b7d71822",
   "metadata": {},
   "outputs": [
    {
     "data": {
      "text/plain": [
       "'spamspamspam'"
      ]
     },
     "execution_count": 2,
     "metadata": {},
     "output_type": "execute_result"
    }
   ],
   "source": [
    "\"spam\" + \"spamspam\""
   ]
  },
  {
   "cell_type": "code",
   "execution_count": 3,
   "id": "e5366ae8",
   "metadata": {},
   "outputs": [
    {
     "data": {
      "text/plain": [
       "'spamspamspam'"
      ]
     },
     "execution_count": 3,
     "metadata": {},
     "output_type": "execute_result"
    }
   ],
   "source": [
    "'spam'* 3"
   ]
  },
  {
   "cell_type": "markdown",
   "id": "6a44c9b4",
   "metadata": {},
   "source": [
    "# 8. Why is eggs a valid variable name while 100 is invalid?\n",
    "\n",
    "solution:-\n",
    "          \n",
    "          Variable names typically need to start with a letter (a-z or A-Z) or an underscore (_) character.\n",
    "          They cannot start with a number. \"eggs\" starts with a letter, making it a valid variable name. However, \"100\"                          starts with a number, which violates this rule."
   ]
  },
  {
   "cell_type": "markdown",
   "id": "640eaff6",
   "metadata": {},
   "source": [
    "# 9.What three functions can be used to get the integer, floating-point number,         or string version of a value?\n",
    "\n",
    "solution:-\n",
    "        \n",
    "        int(): This function is used to convert a value to an integer data type.\n",
    "\n",
    "        float(): This function is used to convert a value to a floating-point number data type.\n",
    "\n",
    "        str(): This function is used to convert a value to a string data type."
   ]
  },
  {
   "cell_type": "markdown",
   "id": "fc16ecad",
   "metadata": {},
   "source": [
    "# 10. Why does this expression cause an error? How can you fix it?                                                                                                                                                                      'I have eaten ' + 99 + ' burritos.'\n",
    "\n",
    "\n",
    "\n",
    "solution:-\n",
    "          \n",
    "          The expression 'I have eaten' + 99 + burritos.' causes an error because it attempts to concatenate a string, a                 number(99). This leads to a type mismatch and results in a syntax error.\n",
    "\n",
    "         "
   ]
  },
  {
   "cell_type": "code",
   "execution_count": 4,
   "id": "4766cf3c",
   "metadata": {},
   "outputs": [
    {
     "data": {
      "text/plain": [
       "'I have eaten 99 burritos.'"
      ]
     },
     "execution_count": 4,
     "metadata": {},
     "output_type": "execute_result"
    }
   ],
   "source": [
    "'I have eaten' +' '  '99' ' ' + 'burritos.'"
   ]
  },
  {
   "cell_type": "code",
   "execution_count": null,
   "id": "1e0a1c12",
   "metadata": {},
   "outputs": [],
   "source": []
  }
 ],
 "metadata": {
  "kernelspec": {
   "display_name": "Python 3 (ipykernel)",
   "language": "python",
   "name": "python3"
  },
  "language_info": {
   "codemirror_mode": {
    "name": "ipython",
    "version": 3
   },
   "file_extension": ".py",
   "mimetype": "text/x-python",
   "name": "python",
   "nbconvert_exporter": "python",
   "pygments_lexer": "ipython3",
   "version": "3.10.9"
  }
 },
 "nbformat": 4,
 "nbformat_minor": 5
}
